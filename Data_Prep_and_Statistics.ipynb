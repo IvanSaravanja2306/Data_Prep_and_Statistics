{
 "cells": [
  {
   "cell_type": "markdown",
   "id": "5d9007cd",
   "metadata": {},
   "source": [
    "# Loading libraries\n",
    "Loading the libraries I will need and suppressing the warnings, as per advice from classes."
   ]
  },
  {
   "cell_type": "code",
   "execution_count": 136,
   "id": "6254b497",
   "metadata": {},
   "outputs": [],
   "source": [
    "import pandas as pd\n",
    "from sklearn.decomposition import PCA\n",
    "import numpy as np\n",
    "import seaborn as sns\n",
    "import matplotlib.pyplot as plt \n",
    "%matplotlib inline\n",
    "sns.set(color_codes=True) \n",
    "import sklearn.preprocessing as preproc\n",
    "from sklearn import linear_model\n",
    "from sklearn.model_selection import train_test_split\n",
    "from scipy import stats\n",
    "import statistics as stats\n",
    "from scipy.stats import poisson\n",
    "from scipy.stats import binom\n",
    "from sklearn.feature_extraction import DictVectorizer\n",
    "from sklearn import preprocessing\n",
    "import math\n",
    "\n",
    "import warnings\n",
    "warnings.filterwarnings('ignore')"
   ]
  },
  {
   "cell_type": "markdown",
   "id": "b510c3c0",
   "metadata": {},
   "source": [
    "### I will set columns containing floating point number to display only 2 decimal places after decimal point"
   ]
  },
  {
   "cell_type": "code",
   "execution_count": 69,
   "id": "a799a584",
   "metadata": {},
   "outputs": [],
   "source": [
    "pd.options.display.float_format = '{:.2f}'.format"
   ]
  },
  {
   "cell_type": "markdown",
   "id": "6f218aa3",
   "metadata": {},
   "source": [
    "## Importing the dataset"
   ]
  },
  {
   "cell_type": "code",
   "execution_count": 70,
   "id": "98e0efa0",
   "metadata": {},
   "outputs": [
    {
     "data": {
      "text/html": [
       "<div>\n",
       "<style scoped>\n",
       "    .dataframe tbody tr th:only-of-type {\n",
       "        vertical-align: middle;\n",
       "    }\n",
       "\n",
       "    .dataframe tbody tr th {\n",
       "        vertical-align: top;\n",
       "    }\n",
       "\n",
       "    .dataframe thead th {\n",
       "        text-align: right;\n",
       "    }\n",
       "</style>\n",
       "<table border=\"1\" class=\"dataframe\">\n",
       "  <thead>\n",
       "    <tr style=\"text-align: right;\">\n",
       "      <th></th>\n",
       "      <th>class</th>\n",
       "      <th>aa_000</th>\n",
       "      <th>ab_000</th>\n",
       "      <th>ac_000</th>\n",
       "      <th>ad_000</th>\n",
       "      <th>ae_000</th>\n",
       "      <th>af_000</th>\n",
       "      <th>ag_000</th>\n",
       "      <th>ag_001</th>\n",
       "      <th>ag_002</th>\n",
       "      <th>...</th>\n",
       "      <th>ee_002</th>\n",
       "      <th>ee_003</th>\n",
       "      <th>ee_004</th>\n",
       "      <th>ee_005</th>\n",
       "      <th>ee_006</th>\n",
       "      <th>ee_007</th>\n",
       "      <th>ee_008</th>\n",
       "      <th>ee_009</th>\n",
       "      <th>ef_000</th>\n",
       "      <th>eg_000</th>\n",
       "    </tr>\n",
       "  </thead>\n",
       "  <tbody>\n",
       "    <tr>\n",
       "      <th>0</th>\n",
       "      <td>neg</td>\n",
       "      <td>76698</td>\n",
       "      <td>na</td>\n",
       "      <td>2130706438</td>\n",
       "      <td>280</td>\n",
       "      <td>0</td>\n",
       "      <td>0</td>\n",
       "      <td>0</td>\n",
       "      <td>0</td>\n",
       "      <td>0</td>\n",
       "      <td>...</td>\n",
       "      <td>1240520</td>\n",
       "      <td>493384</td>\n",
       "      <td>721044</td>\n",
       "      <td>469792</td>\n",
       "      <td>339156</td>\n",
       "      <td>157956</td>\n",
       "      <td>73224</td>\n",
       "      <td>0</td>\n",
       "      <td>0</td>\n",
       "      <td>0</td>\n",
       "    </tr>\n",
       "    <tr>\n",
       "      <th>1</th>\n",
       "      <td>neg</td>\n",
       "      <td>33058</td>\n",
       "      <td>na</td>\n",
       "      <td>0</td>\n",
       "      <td>na</td>\n",
       "      <td>0</td>\n",
       "      <td>0</td>\n",
       "      <td>0</td>\n",
       "      <td>0</td>\n",
       "      <td>0</td>\n",
       "      <td>...</td>\n",
       "      <td>421400</td>\n",
       "      <td>178064</td>\n",
       "      <td>293306</td>\n",
       "      <td>245416</td>\n",
       "      <td>133654</td>\n",
       "      <td>81140</td>\n",
       "      <td>97576</td>\n",
       "      <td>1500</td>\n",
       "      <td>0</td>\n",
       "      <td>0</td>\n",
       "    </tr>\n",
       "    <tr>\n",
       "      <th>2</th>\n",
       "      <td>neg</td>\n",
       "      <td>41040</td>\n",
       "      <td>na</td>\n",
       "      <td>228</td>\n",
       "      <td>100</td>\n",
       "      <td>0</td>\n",
       "      <td>0</td>\n",
       "      <td>0</td>\n",
       "      <td>0</td>\n",
       "      <td>0</td>\n",
       "      <td>...</td>\n",
       "      <td>277378</td>\n",
       "      <td>159812</td>\n",
       "      <td>423992</td>\n",
       "      <td>409564</td>\n",
       "      <td>320746</td>\n",
       "      <td>158022</td>\n",
       "      <td>95128</td>\n",
       "      <td>514</td>\n",
       "      <td>0</td>\n",
       "      <td>0</td>\n",
       "    </tr>\n",
       "    <tr>\n",
       "      <th>3</th>\n",
       "      <td>neg</td>\n",
       "      <td>12</td>\n",
       "      <td>0</td>\n",
       "      <td>70</td>\n",
       "      <td>66</td>\n",
       "      <td>0</td>\n",
       "      <td>10</td>\n",
       "      <td>0</td>\n",
       "      <td>0</td>\n",
       "      <td>0</td>\n",
       "      <td>...</td>\n",
       "      <td>240</td>\n",
       "      <td>46</td>\n",
       "      <td>58</td>\n",
       "      <td>44</td>\n",
       "      <td>10</td>\n",
       "      <td>0</td>\n",
       "      <td>0</td>\n",
       "      <td>0</td>\n",
       "      <td>4</td>\n",
       "      <td>32</td>\n",
       "    </tr>\n",
       "    <tr>\n",
       "      <th>4</th>\n",
       "      <td>neg</td>\n",
       "      <td>60874</td>\n",
       "      <td>na</td>\n",
       "      <td>1368</td>\n",
       "      <td>458</td>\n",
       "      <td>0</td>\n",
       "      <td>0</td>\n",
       "      <td>0</td>\n",
       "      <td>0</td>\n",
       "      <td>0</td>\n",
       "      <td>...</td>\n",
       "      <td>622012</td>\n",
       "      <td>229790</td>\n",
       "      <td>405298</td>\n",
       "      <td>347188</td>\n",
       "      <td>286954</td>\n",
       "      <td>311560</td>\n",
       "      <td>433954</td>\n",
       "      <td>1218</td>\n",
       "      <td>0</td>\n",
       "      <td>0</td>\n",
       "    </tr>\n",
       "  </tbody>\n",
       "</table>\n",
       "<p>5 rows × 171 columns</p>\n",
       "</div>"
      ],
      "text/plain": [
       "  class  aa_000 ab_000      ac_000 ad_000 ae_000 af_000 ag_000 ag_001 ag_002  \\\n",
       "0   neg   76698     na  2130706438    280      0      0      0      0      0   \n",
       "1   neg   33058     na           0     na      0      0      0      0      0   \n",
       "2   neg   41040     na         228    100      0      0      0      0      0   \n",
       "3   neg      12      0          70     66      0     10      0      0      0   \n",
       "4   neg   60874     na        1368    458      0      0      0      0      0   \n",
       "\n",
       "   ...   ee_002  ee_003  ee_004  ee_005  ee_006  ee_007  ee_008 ee_009 ef_000  \\\n",
       "0  ...  1240520  493384  721044  469792  339156  157956   73224      0      0   \n",
       "1  ...   421400  178064  293306  245416  133654   81140   97576   1500      0   \n",
       "2  ...   277378  159812  423992  409564  320746  158022   95128    514      0   \n",
       "3  ...      240      46      58      44      10       0       0      0      4   \n",
       "4  ...   622012  229790  405298  347188  286954  311560  433954   1218      0   \n",
       "\n",
       "  eg_000  \n",
       "0      0  \n",
       "1      0  \n",
       "2      0  \n",
       "3     32  \n",
       "4      0  \n",
       "\n",
       "[5 rows x 171 columns]"
      ]
     },
     "execution_count": 70,
     "metadata": {},
     "output_type": "execute_result"
    }
   ],
   "source": [
    "df = pd.read_csv('aps_failure_set.csv')\n",
    "df.head()"
   ]
  },
  {
   "cell_type": "markdown",
   "id": "786f135a",
   "metadata": {},
   "source": [
    "## Exploring the dataset I have:\n",
    "To check if positive class is showing up, to get general info about the data - what kind of data type are used in columns, to check which column is int64 column etc."
   ]
  },
  {
   "cell_type": "code",
   "execution_count": 71,
   "id": "5a8a37db",
   "metadata": {},
   "outputs": [
    {
     "data": {
      "text/html": [
       "<div>\n",
       "<style scoped>\n",
       "    .dataframe tbody tr th:only-of-type {\n",
       "        vertical-align: middle;\n",
       "    }\n",
       "\n",
       "    .dataframe tbody tr th {\n",
       "        vertical-align: top;\n",
       "    }\n",
       "\n",
       "    .dataframe thead th {\n",
       "        text-align: right;\n",
       "    }\n",
       "</style>\n",
       "<table border=\"1\" class=\"dataframe\">\n",
       "  <thead>\n",
       "    <tr style=\"text-align: right;\">\n",
       "      <th></th>\n",
       "      <th>class</th>\n",
       "      <th>aa_000</th>\n",
       "      <th>ab_000</th>\n",
       "      <th>ac_000</th>\n",
       "      <th>ad_000</th>\n",
       "      <th>ae_000</th>\n",
       "      <th>af_000</th>\n",
       "      <th>ag_000</th>\n",
       "      <th>ag_001</th>\n",
       "      <th>ag_002</th>\n",
       "      <th>...</th>\n",
       "      <th>ee_002</th>\n",
       "      <th>ee_003</th>\n",
       "      <th>ee_004</th>\n",
       "      <th>ee_005</th>\n",
       "      <th>ee_006</th>\n",
       "      <th>ee_007</th>\n",
       "      <th>ee_008</th>\n",
       "      <th>ee_009</th>\n",
       "      <th>ef_000</th>\n",
       "      <th>eg_000</th>\n",
       "    </tr>\n",
       "  </thead>\n",
       "  <tbody>\n",
       "    <tr>\n",
       "      <th>59990</th>\n",
       "      <td>neg</td>\n",
       "      <td>81354</td>\n",
       "      <td>na</td>\n",
       "      <td>2130706432</td>\n",
       "      <td>156</td>\n",
       "      <td>0</td>\n",
       "      <td>0</td>\n",
       "      <td>0</td>\n",
       "      <td>0</td>\n",
       "      <td>0</td>\n",
       "      <td>...</td>\n",
       "      <td>627610</td>\n",
       "      <td>376028</td>\n",
       "      <td>931828</td>\n",
       "      <td>1035236</td>\n",
       "      <td>674626</td>\n",
       "      <td>161266</td>\n",
       "      <td>3284</td>\n",
       "      <td>0</td>\n",
       "      <td>0</td>\n",
       "      <td>0</td>\n",
       "    </tr>\n",
       "    <tr>\n",
       "      <th>59991</th>\n",
       "      <td>neg</td>\n",
       "      <td>39308</td>\n",
       "      <td>na</td>\n",
       "      <td>452</td>\n",
       "      <td>374</td>\n",
       "      <td>0</td>\n",
       "      <td>0</td>\n",
       "      <td>0</td>\n",
       "      <td>0</td>\n",
       "      <td>0</td>\n",
       "      <td>...</td>\n",
       "      <td>312426</td>\n",
       "      <td>161694</td>\n",
       "      <td>323438</td>\n",
       "      <td>292350</td>\n",
       "      <td>250112</td>\n",
       "      <td>157636</td>\n",
       "      <td>234932</td>\n",
       "      <td>9506</td>\n",
       "      <td>0</td>\n",
       "      <td>0</td>\n",
       "    </tr>\n",
       "    <tr>\n",
       "      <th>59992</th>\n",
       "      <td>neg</td>\n",
       "      <td>14</td>\n",
       "      <td>0</td>\n",
       "      <td>2</td>\n",
       "      <td>2</td>\n",
       "      <td>0</td>\n",
       "      <td>0</td>\n",
       "      <td>0</td>\n",
       "      <td>0</td>\n",
       "      <td>0</td>\n",
       "      <td>...</td>\n",
       "      <td>132</td>\n",
       "      <td>44</td>\n",
       "      <td>80</td>\n",
       "      <td>52</td>\n",
       "      <td>54</td>\n",
       "      <td>0</td>\n",
       "      <td>0</td>\n",
       "      <td>0</td>\n",
       "      <td>0</td>\n",
       "      <td>0</td>\n",
       "    </tr>\n",
       "    <tr>\n",
       "      <th>59993</th>\n",
       "      <td>neg</td>\n",
       "      <td>0</td>\n",
       "      <td>2</td>\n",
       "      <td>0</td>\n",
       "      <td>0</td>\n",
       "      <td>0</td>\n",
       "      <td>0</td>\n",
       "      <td>0</td>\n",
       "      <td>0</td>\n",
       "      <td>0</td>\n",
       "      <td>...</td>\n",
       "      <td>0</td>\n",
       "      <td>0</td>\n",
       "      <td>0</td>\n",
       "      <td>0</td>\n",
       "      <td>0</td>\n",
       "      <td>0</td>\n",
       "      <td>0</td>\n",
       "      <td>0</td>\n",
       "      <td>0</td>\n",
       "      <td>0</td>\n",
       "    </tr>\n",
       "    <tr>\n",
       "      <th>59994</th>\n",
       "      <td>neg</td>\n",
       "      <td>32</td>\n",
       "      <td>0</td>\n",
       "      <td>0</td>\n",
       "      <td>na</td>\n",
       "      <td>0</td>\n",
       "      <td>0</td>\n",
       "      <td>0</td>\n",
       "      <td>0</td>\n",
       "      <td>0</td>\n",
       "      <td>...</td>\n",
       "      <td>258</td>\n",
       "      <td>98</td>\n",
       "      <td>224</td>\n",
       "      <td>166</td>\n",
       "      <td>36</td>\n",
       "      <td>486</td>\n",
       "      <td>0</td>\n",
       "      <td>0</td>\n",
       "      <td>0</td>\n",
       "      <td>0</td>\n",
       "    </tr>\n",
       "    <tr>\n",
       "      <th>59995</th>\n",
       "      <td>neg</td>\n",
       "      <td>153002</td>\n",
       "      <td>na</td>\n",
       "      <td>664</td>\n",
       "      <td>186</td>\n",
       "      <td>0</td>\n",
       "      <td>0</td>\n",
       "      <td>0</td>\n",
       "      <td>0</td>\n",
       "      <td>0</td>\n",
       "      <td>...</td>\n",
       "      <td>998500</td>\n",
       "      <td>566884</td>\n",
       "      <td>1290398</td>\n",
       "      <td>1218244</td>\n",
       "      <td>1019768</td>\n",
       "      <td>717762</td>\n",
       "      <td>898642</td>\n",
       "      <td>28588</td>\n",
       "      <td>0</td>\n",
       "      <td>0</td>\n",
       "    </tr>\n",
       "    <tr>\n",
       "      <th>59996</th>\n",
       "      <td>neg</td>\n",
       "      <td>2286</td>\n",
       "      <td>na</td>\n",
       "      <td>2130706538</td>\n",
       "      <td>224</td>\n",
       "      <td>0</td>\n",
       "      <td>0</td>\n",
       "      <td>0</td>\n",
       "      <td>0</td>\n",
       "      <td>0</td>\n",
       "      <td>...</td>\n",
       "      <td>10578</td>\n",
       "      <td>6760</td>\n",
       "      <td>21126</td>\n",
       "      <td>68424</td>\n",
       "      <td>136</td>\n",
       "      <td>0</td>\n",
       "      <td>0</td>\n",
       "      <td>0</td>\n",
       "      <td>0</td>\n",
       "      <td>0</td>\n",
       "    </tr>\n",
       "    <tr>\n",
       "      <th>59997</th>\n",
       "      <td>neg</td>\n",
       "      <td>112</td>\n",
       "      <td>0</td>\n",
       "      <td>2130706432</td>\n",
       "      <td>18</td>\n",
       "      <td>0</td>\n",
       "      <td>0</td>\n",
       "      <td>0</td>\n",
       "      <td>0</td>\n",
       "      <td>0</td>\n",
       "      <td>...</td>\n",
       "      <td>792</td>\n",
       "      <td>386</td>\n",
       "      <td>452</td>\n",
       "      <td>144</td>\n",
       "      <td>146</td>\n",
       "      <td>2622</td>\n",
       "      <td>0</td>\n",
       "      <td>0</td>\n",
       "      <td>0</td>\n",
       "      <td>0</td>\n",
       "    </tr>\n",
       "    <tr>\n",
       "      <th>59998</th>\n",
       "      <td>neg</td>\n",
       "      <td>80292</td>\n",
       "      <td>na</td>\n",
       "      <td>2130706432</td>\n",
       "      <td>494</td>\n",
       "      <td>0</td>\n",
       "      <td>0</td>\n",
       "      <td>0</td>\n",
       "      <td>0</td>\n",
       "      <td>0</td>\n",
       "      <td>...</td>\n",
       "      <td>699352</td>\n",
       "      <td>222654</td>\n",
       "      <td>347378</td>\n",
       "      <td>225724</td>\n",
       "      <td>194440</td>\n",
       "      <td>165070</td>\n",
       "      <td>802280</td>\n",
       "      <td>388422</td>\n",
       "      <td>0</td>\n",
       "      <td>0</td>\n",
       "    </tr>\n",
       "    <tr>\n",
       "      <th>59999</th>\n",
       "      <td>neg</td>\n",
       "      <td>40222</td>\n",
       "      <td>na</td>\n",
       "      <td>698</td>\n",
       "      <td>628</td>\n",
       "      <td>0</td>\n",
       "      <td>0</td>\n",
       "      <td>0</td>\n",
       "      <td>0</td>\n",
       "      <td>0</td>\n",
       "      <td>...</td>\n",
       "      <td>440066</td>\n",
       "      <td>183200</td>\n",
       "      <td>344546</td>\n",
       "      <td>254068</td>\n",
       "      <td>225148</td>\n",
       "      <td>158304</td>\n",
       "      <td>170384</td>\n",
       "      <td>158</td>\n",
       "      <td>0</td>\n",
       "      <td>0</td>\n",
       "    </tr>\n",
       "  </tbody>\n",
       "</table>\n",
       "<p>10 rows × 171 columns</p>\n",
       "</div>"
      ],
      "text/plain": [
       "      class  aa_000 ab_000      ac_000 ad_000 ae_000 af_000 ag_000 ag_001  \\\n",
       "59990   neg   81354     na  2130706432    156      0      0      0      0   \n",
       "59991   neg   39308     na         452    374      0      0      0      0   \n",
       "59992   neg      14      0           2      2      0      0      0      0   \n",
       "59993   neg       0      2           0      0      0      0      0      0   \n",
       "59994   neg      32      0           0     na      0      0      0      0   \n",
       "59995   neg  153002     na         664    186      0      0      0      0   \n",
       "59996   neg    2286     na  2130706538    224      0      0      0      0   \n",
       "59997   neg     112      0  2130706432     18      0      0      0      0   \n",
       "59998   neg   80292     na  2130706432    494      0      0      0      0   \n",
       "59999   neg   40222     na         698    628      0      0      0      0   \n",
       "\n",
       "      ag_002  ...  ee_002  ee_003   ee_004   ee_005   ee_006  ee_007  ee_008  \\\n",
       "59990      0  ...  627610  376028   931828  1035236   674626  161266    3284   \n",
       "59991      0  ...  312426  161694   323438   292350   250112  157636  234932   \n",
       "59992      0  ...     132      44       80       52       54       0       0   \n",
       "59993      0  ...       0       0        0        0        0       0       0   \n",
       "59994      0  ...     258      98      224      166       36     486       0   \n",
       "59995      0  ...  998500  566884  1290398  1218244  1019768  717762  898642   \n",
       "59996      0  ...   10578    6760    21126    68424      136       0       0   \n",
       "59997      0  ...     792     386      452      144      146    2622       0   \n",
       "59998      0  ...  699352  222654   347378   225724   194440  165070  802280   \n",
       "59999      0  ...  440066  183200   344546   254068   225148  158304  170384   \n",
       "\n",
       "       ee_009 ef_000 eg_000  \n",
       "59990       0      0      0  \n",
       "59991    9506      0      0  \n",
       "59992       0      0      0  \n",
       "59993       0      0      0  \n",
       "59994       0      0      0  \n",
       "59995   28588      0      0  \n",
       "59996       0      0      0  \n",
       "59997       0      0      0  \n",
       "59998  388422      0      0  \n",
       "59999     158      0      0  \n",
       "\n",
       "[10 rows x 171 columns]"
      ]
     },
     "execution_count": 71,
     "metadata": {},
     "output_type": "execute_result"
    }
   ],
   "source": [
    "df.tail(10)"
   ]
  },
  {
   "cell_type": "code",
   "execution_count": 72,
   "id": "020d3c71",
   "metadata": {},
   "outputs": [
    {
     "name": "stdout",
     "output_type": "stream",
     "text": [
      "<class 'pandas.core.frame.DataFrame'>\n",
      "RangeIndex: 60000 entries, 0 to 59999\n",
      "Columns: 171 entries, class to eg_000\n",
      "dtypes: int64(1), object(170)\n",
      "memory usage: 78.3+ MB\n"
     ]
    }
   ],
   "source": [
    "df.info()"
   ]
  },
  {
   "cell_type": "code",
   "execution_count": 73,
   "id": "d372b415",
   "metadata": {},
   "outputs": [
    {
     "data": {
      "text/plain": [
       "Index(['class', 'aa_000', 'ab_000', 'ac_000', 'ad_000', 'ae_000', 'af_000',\n",
       "       'ag_000', 'ag_001', 'ag_002',\n",
       "       ...\n",
       "       'ee_002', 'ee_003', 'ee_004', 'ee_005', 'ee_006', 'ee_007', 'ee_008',\n",
       "       'ee_009', 'ef_000', 'eg_000'],\n",
       "      dtype='object', length=171)"
      ]
     },
     "execution_count": 73,
     "metadata": {},
     "output_type": "execute_result"
    }
   ],
   "source": [
    "df.columns"
   ]
  },
  {
   "cell_type": "markdown",
   "id": "54c6f72c",
   "metadata": {},
   "source": [
    "### Checking which column is int64 column"
   ]
  },
  {
   "cell_type": "code",
   "execution_count": 74,
   "id": "dbda40b6",
   "metadata": {},
   "outputs": [
    {
     "name": "stdout",
     "output_type": "stream",
     "text": [
      "['aa_000']\n"
     ]
    }
   ],
   "source": [
    "int_columns = df.select_dtypes(include=['int64']).columns.tolist()\n",
    "\n",
    "print(int_columns)"
   ]
  },
  {
   "cell_type": "markdown",
   "id": "18377331",
   "metadata": {},
   "source": [
    "# "
   ]
  },
  {
   "cell_type": "markdown",
   "id": "ed499089",
   "metadata": {},
   "source": [
    "# Removing null values"
   ]
  },
  {
   "cell_type": "markdown",
   "id": "a099280e",
   "metadata": {},
   "source": [
    "### Checking if there are null values"
   ]
  },
  {
   "cell_type": "code",
   "execution_count": 75,
   "id": "f412aaa6",
   "metadata": {},
   "outputs": [
    {
     "name": "stdout",
     "output_type": "stream",
     "text": [
      "class     0\n",
      "aa_000    0\n",
      "ab_000    0\n",
      "ac_000    0\n",
      "ad_000    0\n",
      "         ..\n",
      "ee_007    0\n",
      "ee_008    0\n",
      "ee_009    0\n",
      "ef_000    0\n",
      "eg_000    0\n",
      "Length: 171, dtype: int64\n"
     ]
    }
   ],
   "source": [
    "print (df.isnull().sum())"
   ]
  },
  {
   "cell_type": "code",
   "execution_count": 76,
   "id": "27c51d1b",
   "metadata": {},
   "outputs": [
    {
     "name": "stdout",
     "output_type": "stream",
     "text": [
      "0\n"
     ]
    }
   ],
   "source": [
    "null_count = df.isnull().sum().sum()\n",
    "print(null_count)"
   ]
  },
  {
   "cell_type": "markdown",
   "id": "7f715819",
   "metadata": {},
   "source": [
    "### Checking if there is any column that contains only \"0\" values, so I can drop it"
   ]
  },
  {
   "cell_type": "code",
   "execution_count": 77,
   "id": "403a2cbc",
   "metadata": {},
   "outputs": [
    {
     "name": "stdout",
     "output_type": "stream",
     "text": [
      "[]\n"
     ]
    }
   ],
   "source": [
    "constant_cols = [col for col in df.columns if df[col].nunique() == 0]\n",
    "\n",
    "print(constant_cols)"
   ]
  },
  {
   "cell_type": "markdown",
   "id": "07f9d7bb",
   "metadata": {},
   "source": [
    "### Getting number of na values and removing them\n",
    "From the data I observed, there is only \"na\" value to be removed from whole dataset, but I will include couple of them more, just in case as dataset is big. I will count the occurrences of each search string in the entire DataFrame."
   ]
  },
  {
   "cell_type": "code",
   "execution_count": 78,
   "id": "95e97eab",
   "metadata": {},
   "outputs": [
    {
     "name": "stdout",
     "output_type": "stream",
     "text": [
      "na: 850015\n",
      "NA: 0\n",
      "N/A: 0\n",
      "n/a: 0\n",
      "null: 0\n",
      "NULL: 0\n",
      "--: 0\n"
     ]
    }
   ],
   "source": [
    "df = pd.read_csv('aps_failure_set.csv')\n",
    "search_strings = ['na', 'NA', 'N/A', 'n/a', 'null', 'NULL','--']\n",
    "\n",
    "count_dict = {}\n",
    "for search_string in search_strings:\n",
    "    count_dict[search_string] = (df == search_string).sum().sum()\n",
    "\n",
    "for search_string, count in count_dict.items():\n",
    "    print(f\"{search_string}: {count}\")"
   ]
  },
  {
   "cell_type": "markdown",
   "id": "b5571ab9",
   "metadata": {},
   "source": [
    "### Checking if there are any \"na\" values in class column"
   ]
  },
  {
   "cell_type": "code",
   "execution_count": 79,
   "id": "a98baeac",
   "metadata": {},
   "outputs": [
    {
     "name": "stdout",
     "output_type": "stream",
     "text": [
      "neg    59000\n",
      "pos     1000\n",
      "Name: class, dtype: int64\n"
     ]
    }
   ],
   "source": [
    "df = pd.read_csv('aps_failure_set.csv')\n",
    "\n",
    "class_count = df['class'].value_counts()\n",
    "\n",
    "print(class_count)"
   ]
  },
  {
   "cell_type": "markdown",
   "id": "ed5d897f",
   "metadata": {},
   "source": [
    "### Plotting number of negatives and positives"
   ]
  },
  {
   "cell_type": "code",
   "execution_count": 80,
   "id": "13eb2dab",
   "metadata": {},
   "outputs": [
    {
     "data": {
      "image/png": "[encoded data removed]",
      "text/plain": [
       "<Figure size 432x288 with 1 Axes>"
      ]
     },
     "metadata": {},
     "output_type": "display_data"
    }
   ],
   "source": [
    "counts = df['class'].value_counts()\n",
    "\n",
    "counts.plot(kind='bar')\n",
    "\n",
    "plt.xlabel('Value')\n",
    "plt.ylabel('Count')\n",
    "plt.title('Value Counts for Column class')\n",
    "\n",
    "plt.show()"
   ]
  },
  {
   "cell_type": "code",
   "execution_count": 93,
   "id": "48112ea1",
   "metadata": {},
   "outputs": [
    {
     "data": {
      "text/plain": [
       "<AxesSubplot:xlabel='class'>"
      ]
     },
     "execution_count": 93,
     "metadata": {},
     "output_type": "execute_result"
    },
    {
     "data": {
      "image/png": "[encoded data removed]",
      "text/plain": [
       "<Figure size 432x288 with 1 Axes>"
      ]
     },
     "metadata": {},
     "output_type": "display_data"
    }
   ],
   "source": [
    "sns.boxplot(x=df['class'])"
   ]
  },
  {
   "cell_type": "markdown",
   "id": "86e44eee",
   "metadata": {},
   "source": [
    "# Replacing \"na\" values with NaN values\n",
    "Applying make_int function to the entire dataframe except 'class' column using applymap, as by previous check, class column has no \"na\" values and don't want to change all the values with NaN. "
   ]
  },
  {
   "cell_type": "code",
   "execution_count": 82,
   "id": "1d5d81d8",
   "metadata": {},
   "outputs": [
    {
     "data": {
      "text/html": [
       "<div>\n",
       "<style scoped>\n",
       "    .dataframe tbody tr th:only-of-type {\n",
       "        vertical-align: middle;\n",
       "    }\n",
       "\n",
       "    .dataframe tbody tr th {\n",
       "        vertical-align: top;\n",
       "    }\n",
       "\n",
       "    .dataframe thead th {\n",
       "        text-align: right;\n",
       "    }\n",
       "</style>\n",
       "<table border=\"1\" class=\"dataframe\">\n",
       "  <thead>\n",
       "    <tr style=\"text-align: right;\">\n",
       "      <th></th>\n",
       "      <th>class</th>\n",
       "      <th>aa_000</th>\n",
       "      <th>ab_000</th>\n",
       "      <th>ac_000</th>\n",
       "      <th>ad_000</th>\n",
       "      <th>ae_000</th>\n",
       "      <th>af_000</th>\n",
       "      <th>ag_000</th>\n",
       "      <th>ag_001</th>\n",
       "      <th>ag_002</th>\n",
       "      <th>...</th>\n",
       "      <th>ee_002</th>\n",
       "      <th>ee_003</th>\n",
       "      <th>ee_004</th>\n",
       "      <th>ee_005</th>\n",
       "      <th>ee_006</th>\n",
       "      <th>ee_007</th>\n",
       "      <th>ee_008</th>\n",
       "      <th>ee_009</th>\n",
       "      <th>ef_000</th>\n",
       "      <th>eg_000</th>\n",
       "    </tr>\n",
       "  </thead>\n",
       "  <tbody>\n",
       "    <tr>\n",
       "      <th>0</th>\n",
       "      <td>neg</td>\n",
       "      <td>76698</td>\n",
       "      <td>NaN</td>\n",
       "      <td>2130706438.00</td>\n",
       "      <td>280.00</td>\n",
       "      <td>0.00</td>\n",
       "      <td>0.00</td>\n",
       "      <td>0.00</td>\n",
       "      <td>0.00</td>\n",
       "      <td>0.00</td>\n",
       "      <td>...</td>\n",
       "      <td>1240520.00</td>\n",
       "      <td>493384.00</td>\n",
       "      <td>721044.00</td>\n",
       "      <td>469792.00</td>\n",
       "      <td>339156.00</td>\n",
       "      <td>157956.00</td>\n",
       "      <td>73224.00</td>\n",
       "      <td>0.00</td>\n",
       "      <td>0.00</td>\n",
       "      <td>0.00</td>\n",
       "    </tr>\n",
       "    <tr>\n",
       "      <th>1</th>\n",
       "      <td>neg</td>\n",
       "      <td>33058</td>\n",
       "      <td>NaN</td>\n",
       "      <td>0.00</td>\n",
       "      <td>NaN</td>\n",
       "      <td>0.00</td>\n",
       "      <td>0.00</td>\n",
       "      <td>0.00</td>\n",
       "      <td>0.00</td>\n",
       "      <td>0.00</td>\n",
       "      <td>...</td>\n",
       "      <td>421400.00</td>\n",
       "      <td>178064.00</td>\n",
       "      <td>293306.00</td>\n",
       "      <td>245416.00</td>\n",
       "      <td>133654.00</td>\n",
       "      <td>81140.00</td>\n",
       "      <td>97576.00</td>\n",
       "      <td>1500.00</td>\n",
       "      <td>0.00</td>\n",
       "      <td>0.00</td>\n",
       "    </tr>\n",
       "    <tr>\n",
       "      <th>2</th>\n",
       "      <td>neg</td>\n",
       "      <td>41040</td>\n",
       "      <td>NaN</td>\n",
       "      <td>228.00</td>\n",
       "      <td>100.00</td>\n",
       "      <td>0.00</td>\n",
       "      <td>0.00</td>\n",
       "      <td>0.00</td>\n",
       "      <td>0.00</td>\n",
       "      <td>0.00</td>\n",
       "      <td>...</td>\n",
       "      <td>277378.00</td>\n",
       "      <td>159812.00</td>\n",
       "      <td>423992.00</td>\n",
       "      <td>409564.00</td>\n",
       "      <td>320746.00</td>\n",
       "      <td>158022.00</td>\n",
       "      <td>95128.00</td>\n",
       "      <td>514.00</td>\n",
       "      <td>0.00</td>\n",
       "      <td>0.00</td>\n",
       "    </tr>\n",
       "    <tr>\n",
       "      <th>3</th>\n",
       "      <td>neg</td>\n",
       "      <td>12</td>\n",
       "      <td>0.00</td>\n",
       "      <td>70.00</td>\n",
       "      <td>66.00</td>\n",
       "      <td>0.00</td>\n",
       "      <td>10.00</td>\n",
       "      <td>0.00</td>\n",
       "      <td>0.00</td>\n",
       "      <td>0.00</td>\n",
       "      <td>...</td>\n",
       "      <td>240.00</td>\n",
       "      <td>46.00</td>\n",
       "      <td>58.00</td>\n",
       "      <td>44.00</td>\n",
       "      <td>10.00</td>\n",
       "      <td>0.00</td>\n",
       "      <td>0.00</td>\n",
       "      <td>0.00</td>\n",
       "      <td>4.00</td>\n",
       "      <td>32.00</td>\n",
       "    </tr>\n",
       "    <tr>\n",
       "      <th>4</th>\n",
       "      <td>neg</td>\n",
       "      <td>60874</td>\n",
       "      <td>NaN</td>\n",
       "      <td>1368.00</td>\n",
       "      <td>458.00</td>\n",
       "      <td>0.00</td>\n",
       "      <td>0.00</td>\n",
       "      <td>0.00</td>\n",
       "      <td>0.00</td>\n",
       "      <td>0.00</td>\n",
       "      <td>...</td>\n",
       "      <td>622012.00</td>\n",
       "      <td>229790.00</td>\n",
       "      <td>405298.00</td>\n",
       "      <td>347188.00</td>\n",
       "      <td>286954.00</td>\n",
       "      <td>311560.00</td>\n",
       "      <td>433954.00</td>\n",
       "      <td>1218.00</td>\n",
       "      <td>0.00</td>\n",
       "      <td>0.00</td>\n",
       "    </tr>\n",
       "  </tbody>\n",
       "</table>\n",
       "<p>5 rows × 171 columns</p>\n",
       "</div>"
      ],
      "text/plain": [
       "  class  aa_000  ab_000        ac_000  ad_000  ae_000  af_000  ag_000  ag_001  \\\n",
       "0   neg   76698     NaN 2130706438.00  280.00    0.00    0.00    0.00    0.00   \n",
       "1   neg   33058     NaN          0.00     NaN    0.00    0.00    0.00    0.00   \n",
       "2   neg   41040     NaN        228.00  100.00    0.00    0.00    0.00    0.00   \n",
       "3   neg      12    0.00         70.00   66.00    0.00   10.00    0.00    0.00   \n",
       "4   neg   60874     NaN       1368.00  458.00    0.00    0.00    0.00    0.00   \n",
       "\n",
       "   ag_002  ...     ee_002    ee_003    ee_004    ee_005    ee_006    ee_007  \\\n",
       "0    0.00  ... 1240520.00 493384.00 721044.00 469792.00 339156.00 157956.00   \n",
       "1    0.00  ...  421400.00 178064.00 293306.00 245416.00 133654.00  81140.00   \n",
       "2    0.00  ...  277378.00 159812.00 423992.00 409564.00 320746.00 158022.00   \n",
       "3    0.00  ...     240.00     46.00     58.00     44.00     10.00      0.00   \n",
       "4    0.00  ...  622012.00 229790.00 405298.00 347188.00 286954.00 311560.00   \n",
       "\n",
       "     ee_008  ee_009  ef_000  eg_000  \n",
       "0  73224.00    0.00    0.00    0.00  \n",
       "1  97576.00 1500.00    0.00    0.00  \n",
       "2  95128.00  514.00    0.00    0.00  \n",
       "3      0.00    0.00    4.00   32.00  \n",
       "4 433954.00 1218.00    0.00    0.00  \n",
       "\n",
       "[5 rows x 171 columns]"
      ]
     },
     "execution_count": 82,
     "metadata": {},
     "output_type": "execute_result"
    }
   ],
   "source": [
    "missing_value_format = ['na']\n",
    "df = pd.read_csv('aps_failure_set.csv', na_values = missing_value_format)\n",
    "def make_int(i):\n",
    "    try:\n",
    "        return int(i)\n",
    "    except:\n",
    "        return pd.np.nan\n",
    "\n",
    "df.loc[:, df.columns != 'class'] = df.loc[:, df.columns != 'class'].applymap(make_int)\n",
    "df.head()\n"
   ]
  },
  {
   "cell_type": "markdown",
   "id": "3d3a34f2",
   "metadata": {},
   "source": [
    "### In order to avoid exception of the \"class\" column all the time and issues with having object cells, I will replace \"neg\" and \"pos\" values with \"0\" and \"1\" respectively. "
   ]
  },
  {
   "cell_type": "code",
   "execution_count": 83,
   "id": "813efe7c",
   "metadata": {},
   "outputs": [],
   "source": [
    "df['class'] = df['class'].replace(['neg', 'pos'], [0, 1])"
   ]
  },
  {
   "cell_type": "code",
   "execution_count": 84,
   "id": "13e0a238",
   "metadata": {},
   "outputs": [
    {
     "data": {
      "text/html": [
       "<div>\n",
       "<style scoped>\n",
       "    .dataframe tbody tr th:only-of-type {\n",
       "        vertical-align: middle;\n",
       "    }\n",
       "\n",
       "    .dataframe tbody tr th {\n",
       "        vertical-align: top;\n",
       "    }\n",
       "\n",
       "    .dataframe thead th {\n",
       "        text-align: right;\n",
       "    }\n",
       "</style>\n",
       "<table border=\"1\" class=\"dataframe\">\n",
       "  <thead>\n",
       "    <tr style=\"text-align: right;\">\n",
       "      <th></th>\n",
       "      <th>class</th>\n",
       "      <th>aa_000</th>\n",
       "      <th>ab_000</th>\n",
       "      <th>ac_000</th>\n",
       "      <th>ad_000</th>\n",
       "      <th>ae_000</th>\n",
       "      <th>af_000</th>\n",
       "      <th>ag_000</th>\n",
       "      <th>ag_001</th>\n",
       "      <th>ag_002</th>\n",
       "      <th>...</th>\n",
       "      <th>ee_002</th>\n",
       "      <th>ee_003</th>\n",
       "      <th>ee_004</th>\n",
       "      <th>ee_005</th>\n",
       "      <th>ee_006</th>\n",
       "      <th>ee_007</th>\n",
       "      <th>ee_008</th>\n",
       "      <th>ee_009</th>\n",
       "      <th>ef_000</th>\n",
       "      <th>eg_000</th>\n",
       "    </tr>\n",
       "  </thead>\n",
       "  <tbody>\n",
       "    <tr>\n",
       "      <th>0</th>\n",
       "      <td>0</td>\n",
       "      <td>76698</td>\n",
       "      <td>NaN</td>\n",
       "      <td>2130706438.00</td>\n",
       "      <td>280.00</td>\n",
       "      <td>0.00</td>\n",
       "      <td>0.00</td>\n",
       "      <td>0.00</td>\n",
       "      <td>0.00</td>\n",
       "      <td>0.00</td>\n",
       "      <td>...</td>\n",
       "      <td>1240520.00</td>\n",
       "      <td>493384.00</td>\n",
       "      <td>721044.00</td>\n",
       "      <td>469792.00</td>\n",
       "      <td>339156.00</td>\n",
       "      <td>157956.00</td>\n",
       "      <td>73224.00</td>\n",
       "      <td>0.00</td>\n",
       "      <td>0.00</td>\n",
       "      <td>0.00</td>\n",
       "    </tr>\n",
       "    <tr>\n",
       "      <th>1</th>\n",
       "      <td>0</td>\n",
       "      <td>33058</td>\n",
       "      <td>NaN</td>\n",
       "      <td>0.00</td>\n",
       "      <td>NaN</td>\n",
       "      <td>0.00</td>\n",
       "      <td>0.00</td>\n",
       "      <td>0.00</td>\n",
       "      <td>0.00</td>\n",
       "      <td>0.00</td>\n",
       "      <td>...</td>\n",
       "      <td>421400.00</td>\n",
       "      <td>178064.00</td>\n",
       "      <td>293306.00</td>\n",
       "      <td>245416.00</td>\n",
       "      <td>133654.00</td>\n",
       "      <td>81140.00</td>\n",
       "      <td>97576.00</td>\n",
       "      <td>1500.00</td>\n",
       "      <td>0.00</td>\n",
       "      <td>0.00</td>\n",
       "    </tr>\n",
       "    <tr>\n",
       "      <th>2</th>\n",
       "      <td>0</td>\n",
       "      <td>41040</td>\n",
       "      <td>NaN</td>\n",
       "      <td>228.00</td>\n",
       "      <td>100.00</td>\n",
       "      <td>0.00</td>\n",
       "      <td>0.00</td>\n",
       "      <td>0.00</td>\n",
       "      <td>0.00</td>\n",
       "      <td>0.00</td>\n",
       "      <td>...</td>\n",
       "      <td>277378.00</td>\n",
       "      <td>159812.00</td>\n",
       "      <td>423992.00</td>\n",
       "      <td>409564.00</td>\n",
       "      <td>320746.00</td>\n",
       "      <td>158022.00</td>\n",
       "      <td>95128.00</td>\n",
       "      <td>514.00</td>\n",
       "      <td>0.00</td>\n",
       "      <td>0.00</td>\n",
       "    </tr>\n",
       "    <tr>\n",
       "      <th>3</th>\n",
       "      <td>0</td>\n",
       "      <td>12</td>\n",
       "      <td>0.00</td>\n",
       "      <td>70.00</td>\n",
       "      <td>66.00</td>\n",
       "      <td>0.00</td>\n",
       "      <td>10.00</td>\n",
       "      <td>0.00</td>\n",
       "      <td>0.00</td>\n",
       "      <td>0.00</td>\n",
       "      <td>...</td>\n",
       "      <td>240.00</td>\n",
       "      <td>46.00</td>\n",
       "      <td>58.00</td>\n",
       "      <td>44.00</td>\n",
       "      <td>10.00</td>\n",
       "      <td>0.00</td>\n",
       "      <td>0.00</td>\n",
       "      <td>0.00</td>\n",
       "      <td>4.00</td>\n",
       "      <td>32.00</td>\n",
       "    </tr>\n",
       "    <tr>\n",
       "      <th>4</th>\n",
       "      <td>0</td>\n",
       "      <td>60874</td>\n",
       "      <td>NaN</td>\n",
       "      <td>1368.00</td>\n",
       "      <td>458.00</td>\n",
       "      <td>0.00</td>\n",
       "      <td>0.00</td>\n",
       "      <td>0.00</td>\n",
       "      <td>0.00</td>\n",
       "      <td>0.00</td>\n",
       "      <td>...</td>\n",
       "      <td>622012.00</td>\n",
       "      <td>229790.00</td>\n",
       "      <td>405298.00</td>\n",
       "      <td>347188.00</td>\n",
       "      <td>286954.00</td>\n",
       "      <td>311560.00</td>\n",
       "      <td>433954.00</td>\n",
       "      <td>1218.00</td>\n",
       "      <td>0.00</td>\n",
       "      <td>0.00</td>\n",
       "    </tr>\n",
       "  </tbody>\n",
       "</table>\n",
       "<p>5 rows × 171 columns</p>\n",
       "</div>"
      ],
      "text/plain": [
       "   class  aa_000  ab_000        ac_000  ad_000  ae_000  af_000  ag_000  \\\n",
       "0      0   76698     NaN 2130706438.00  280.00    0.00    0.00    0.00   \n",
       "1      0   33058     NaN          0.00     NaN    0.00    0.00    0.00   \n",
       "2      0   41040     NaN        228.00  100.00    0.00    0.00    0.00   \n",
       "3      0      12    0.00         70.00   66.00    0.00   10.00    0.00   \n",
       "4      0   60874     NaN       1368.00  458.00    0.00    0.00    0.00   \n",
       "\n",
       "   ag_001  ag_002  ...     ee_002    ee_003    ee_004    ee_005    ee_006  \\\n",
       "0    0.00    0.00  ... 1240520.00 493384.00 721044.00 469792.00 339156.00   \n",
       "1    0.00    0.00  ...  421400.00 178064.00 293306.00 245416.00 133654.00   \n",
       "2    0.00    0.00  ...  277378.00 159812.00 423992.00 409564.00 320746.00   \n",
       "3    0.00    0.00  ...     240.00     46.00     58.00     44.00     10.00   \n",
       "4    0.00    0.00  ...  622012.00 229790.00 405298.00 347188.00 286954.00   \n",
       "\n",
       "     ee_007    ee_008  ee_009  ef_000  eg_000  \n",
       "0 157956.00  73224.00    0.00    0.00    0.00  \n",
       "1  81140.00  97576.00 1500.00    0.00    0.00  \n",
       "2 158022.00  95128.00  514.00    0.00    0.00  \n",
       "3      0.00      0.00    0.00    4.00   32.00  \n",
       "4 311560.00 433954.00 1218.00    0.00    0.00  \n",
       "\n",
       "[5 rows x 171 columns]"
      ]
     },
     "execution_count": 84,
     "metadata": {},
     "output_type": "execute_result"
    }
   ],
   "source": [
    "df.head()"
   ]
  },
  {
   "cell_type": "markdown",
   "id": "22376d2d",
   "metadata": {},
   "source": [
    "### Distribution of NaN values\n",
    "I will use the heatmap to identify columns with highest number of missing values. Yellow color marks missing values."
   ]
  },
  {
   "cell_type": "code",
   "execution_count": 85,
   "id": "44b0b27a",
   "metadata": {},
   "outputs": [
    {
     "data": {
      "image/png": "[encoded data removed]",
      "text/plain": [
       "<Figure size 1440x720 with 2 Axes>"
      ]
     },
     "metadata": {},
     "output_type": "display_data"
    }
   ],
   "source": [
    "missing_values = df.isnull().sum()\n",
    "\n",
    "plt.figure(figsize=(20,10))\n",
    "sns.heatmap(df.isnull(), cmap='viridis')\n",
    "plt.title('Distribution of NaN Values')\n",
    "plt.show()"
   ]
  },
  {
   "cell_type": "markdown",
   "id": "89085e1a",
   "metadata": {},
   "source": [
    "### Plotting a bar chart of top 10 columns containing NaN values\n",
    "In order to get this chart, code will calculate percentage of NaN values in each column using \"isna()\" and \"sum()\" methods. Then it will sort the columns in by their NaN percentages and select top 10 ones with the highest percentage of NaN values.\n",
    "At the end, it will plot a bar chart of the top 10 columns using \"bar()\" method of matplotlib. "
   ]
  },
  {
   "cell_type": "code",
   "execution_count": 86,
   "id": "95dae71c",
   "metadata": {},
   "outputs": [
    {
     "data": {
      "image/png": "[encoded data removed]",
      "text/plain": [
       "<Figure size 648x432 with 1 Axes>"
      ]
     },
     "metadata": {},
     "output_type": "display_data"
    }
   ],
   "source": [
    "na_percentages = df.isna().sum() / len(df) * 100\n",
    "\n",
    "na_percentages_sorted = na_percentages.sort_values(ascending=False)\n",
    "\n",
    "top_10_na_features = na_percentages_sorted.head(10)\n",
    "\n",
    "plt.figure(figsize=(9,6))\n",
    "plt.bar(top_10_na_features.index, top_10_na_features.values)\n",
    "plt.xlabel('Columns')\n",
    "plt.ylabel('Percentage of NaN values')\n",
    "plt.title('Top 10 columns with highest NaN values')\n",
    "plt.show()"
   ]
  },
  {
   "cell_type": "markdown",
   "id": "96d0d85b",
   "metadata": {},
   "source": [
    "### Removing all the columns with more than 70% of NaN values in it.\n",
    "In first attempt, I was removing all the NaN values, but that reduced my dataset drastically and would affect results, therefore, I'm applying this method instead. First, I will calculate the threshold for dropping columns. Then, I will drop columns with more than 70% NaN values.\n",
    "Number of columns reduced from 171 to 161. Other NaN values will be filled in by using mean."
   ]
  },
  {
   "cell_type": "code",
   "execution_count": 87,
   "id": "0f94d546",
   "metadata": {},
   "outputs": [
    {
     "name": "stdout",
     "output_type": "stream",
     "text": [
      "   class  aa_000        ac_000  ad_000  ae_000  af_000  ag_000  ag_001  \\\n",
      "0      0   76698 2130706438.00  280.00    0.00    0.00    0.00    0.00   \n",
      "1      0   33058          0.00     NaN    0.00    0.00    0.00    0.00   \n",
      "2      0   41040        228.00  100.00    0.00    0.00    0.00    0.00   \n",
      "3      0      12         70.00   66.00    0.00   10.00    0.00    0.00   \n",
      "4      0   60874       1368.00  458.00    0.00    0.00    0.00    0.00   \n",
      "\n",
      "   ag_002  ag_003  ...     ee_002    ee_003    ee_004    ee_005    ee_006  \\\n",
      "0    0.00    0.00  ... 1240520.00 493384.00 721044.00 469792.00 339156.00   \n",
      "1    0.00    0.00  ...  421400.00 178064.00 293306.00 245416.00 133654.00   \n",
      "2    0.00    0.00  ...  277378.00 159812.00 423992.00 409564.00 320746.00   \n",
      "3    0.00  318.00  ...     240.00     46.00     58.00     44.00     10.00   \n",
      "4    0.00    0.00  ...  622012.00 229790.00 405298.00 347188.00 286954.00   \n",
      "\n",
      "     ee_007    ee_008  ee_009  ef_000  eg_000  \n",
      "0 157956.00  73224.00    0.00    0.00    0.00  \n",
      "1  81140.00  97576.00 1500.00    0.00    0.00  \n",
      "2 158022.00  95128.00  514.00    0.00    0.00  \n",
      "3      0.00      0.00    0.00    4.00   32.00  \n",
      "4 311560.00 433954.00 1218.00    0.00    0.00  \n",
      "\n",
      "[5 rows x 161 columns]\n"
     ]
    }
   ],
   "source": [
    "threshold = len(df) * 0.7\n",
    "\n",
    "df = df.dropna(thresh=threshold, axis=1)\n",
    "\n",
    "print(df.head())"
   ]
  },
  {
   "cell_type": "code",
   "execution_count": 88,
   "id": "430158ff",
   "metadata": {},
   "outputs": [
    {
     "name": "stdout",
     "output_type": "stream",
     "text": [
      "Number of rows: 60000\n",
      "Number of columns: 161\n"
     ]
    }
   ],
   "source": [
    "num_rows, num_cols = df.shape\n",
    "\n",
    "print(\"Number of rows: {}\".format(num_rows))\n",
    "print(\"Number of columns: {}\".format(num_cols))"
   ]
  },
  {
   "cell_type": "markdown",
   "id": "d4ccdf3c",
   "metadata": {},
   "source": [
    "### Replacing the rest of the NaN values with the mean of the column"
   ]
  },
  {
   "cell_type": "code",
   "execution_count": 89,
   "id": "c3c4ca0a",
   "metadata": {},
   "outputs": [
    {
     "data": {
      "text/html": [
       "<div>\n",
       "<style scoped>\n",
       "    .dataframe tbody tr th:only-of-type {\n",
       "        vertical-align: middle;\n",
       "    }\n",
       "\n",
       "    .dataframe tbody tr th {\n",
       "        vertical-align: top;\n",
       "    }\n",
       "\n",
       "    .dataframe thead th {\n",
       "        text-align: right;\n",
       "    }\n",
       "</style>\n",
       "<table border=\"1\" class=\"dataframe\">\n",
       "  <thead>\n",
       "    <tr style=\"text-align: right;\">\n",
       "      <th></th>\n",
       "      <th>class</th>\n",
       "      <th>aa_000</th>\n",
       "      <th>ac_000</th>\n",
       "      <th>ad_000</th>\n",
       "      <th>ae_000</th>\n",
       "      <th>af_000</th>\n",
       "      <th>ag_000</th>\n",
       "      <th>ag_001</th>\n",
       "      <th>ag_002</th>\n",
       "      <th>ag_003</th>\n",
       "      <th>...</th>\n",
       "      <th>ee_002</th>\n",
       "      <th>ee_003</th>\n",
       "      <th>ee_004</th>\n",
       "      <th>ee_005</th>\n",
       "      <th>ee_006</th>\n",
       "      <th>ee_007</th>\n",
       "      <th>ee_008</th>\n",
       "      <th>ee_009</th>\n",
       "      <th>ef_000</th>\n",
       "      <th>eg_000</th>\n",
       "    </tr>\n",
       "  </thead>\n",
       "  <tbody>\n",
       "    <tr>\n",
       "      <th>0</th>\n",
       "      <td>0</td>\n",
       "      <td>76698</td>\n",
       "      <td>2130706438.00</td>\n",
       "      <td>280.00</td>\n",
       "      <td>0.00</td>\n",
       "      <td>0.00</td>\n",
       "      <td>0.00</td>\n",
       "      <td>0.00</td>\n",
       "      <td>0.00</td>\n",
       "      <td>0.00</td>\n",
       "      <td>...</td>\n",
       "      <td>1240520.00</td>\n",
       "      <td>493384.00</td>\n",
       "      <td>721044.00</td>\n",
       "      <td>469792.00</td>\n",
       "      <td>339156.00</td>\n",
       "      <td>157956.00</td>\n",
       "      <td>73224.00</td>\n",
       "      <td>0.00</td>\n",
       "      <td>0.00</td>\n",
       "      <td>0.00</td>\n",
       "    </tr>\n",
       "    <tr>\n",
       "      <th>1</th>\n",
       "      <td>0</td>\n",
       "      <td>33058</td>\n",
       "      <td>0.00</td>\n",
       "      <td>190620.64</td>\n",
       "      <td>0.00</td>\n",
       "      <td>0.00</td>\n",
       "      <td>0.00</td>\n",
       "      <td>0.00</td>\n",
       "      <td>0.00</td>\n",
       "      <td>0.00</td>\n",
       "      <td>...</td>\n",
       "      <td>421400.00</td>\n",
       "      <td>178064.00</td>\n",
       "      <td>293306.00</td>\n",
       "      <td>245416.00</td>\n",
       "      <td>133654.00</td>\n",
       "      <td>81140.00</td>\n",
       "      <td>97576.00</td>\n",
       "      <td>1500.00</td>\n",
       "      <td>0.00</td>\n",
       "      <td>0.00</td>\n",
       "    </tr>\n",
       "    <tr>\n",
       "      <th>2</th>\n",
       "      <td>0</td>\n",
       "      <td>41040</td>\n",
       "      <td>228.00</td>\n",
       "      <td>100.00</td>\n",
       "      <td>0.00</td>\n",
       "      <td>0.00</td>\n",
       "      <td>0.00</td>\n",
       "      <td>0.00</td>\n",
       "      <td>0.00</td>\n",
       "      <td>0.00</td>\n",
       "      <td>...</td>\n",
       "      <td>277378.00</td>\n",
       "      <td>159812.00</td>\n",
       "      <td>423992.00</td>\n",
       "      <td>409564.00</td>\n",
       "      <td>320746.00</td>\n",
       "      <td>158022.00</td>\n",
       "      <td>95128.00</td>\n",
       "      <td>514.00</td>\n",
       "      <td>0.00</td>\n",
       "      <td>0.00</td>\n",
       "    </tr>\n",
       "    <tr>\n",
       "      <th>3</th>\n",
       "      <td>0</td>\n",
       "      <td>12</td>\n",
       "      <td>70.00</td>\n",
       "      <td>66.00</td>\n",
       "      <td>0.00</td>\n",
       "      <td>10.00</td>\n",
       "      <td>0.00</td>\n",
       "      <td>0.00</td>\n",
       "      <td>0.00</td>\n",
       "      <td>318.00</td>\n",
       "      <td>...</td>\n",
       "      <td>240.00</td>\n",
       "      <td>46.00</td>\n",
       "      <td>58.00</td>\n",
       "      <td>44.00</td>\n",
       "      <td>10.00</td>\n",
       "      <td>0.00</td>\n",
       "      <td>0.00</td>\n",
       "      <td>0.00</td>\n",
       "      <td>4.00</td>\n",
       "      <td>32.00</td>\n",
       "    </tr>\n",
       "    <tr>\n",
       "      <th>4</th>\n",
       "      <td>0</td>\n",
       "      <td>60874</td>\n",
       "      <td>1368.00</td>\n",
       "      <td>458.00</td>\n",
       "      <td>0.00</td>\n",
       "      <td>0.00</td>\n",
       "      <td>0.00</td>\n",
       "      <td>0.00</td>\n",
       "      <td>0.00</td>\n",
       "      <td>0.00</td>\n",
       "      <td>...</td>\n",
       "      <td>622012.00</td>\n",
       "      <td>229790.00</td>\n",
       "      <td>405298.00</td>\n",
       "      <td>347188.00</td>\n",
       "      <td>286954.00</td>\n",
       "      <td>311560.00</td>\n",
       "      <td>433954.00</td>\n",
       "      <td>1218.00</td>\n",
       "      <td>0.00</td>\n",
       "      <td>0.00</td>\n",
       "    </tr>\n",
       "  </tbody>\n",
       "</table>\n",
       "<p>5 rows × 161 columns</p>\n",
       "</div>"
      ],
      "text/plain": [
       "   class  aa_000        ac_000    ad_000  ae_000  af_000  ag_000  ag_001  \\\n",
       "0      0   76698 2130706438.00    280.00    0.00    0.00    0.00    0.00   \n",
       "1      0   33058          0.00 190620.64    0.00    0.00    0.00    0.00   \n",
       "2      0   41040        228.00    100.00    0.00    0.00    0.00    0.00   \n",
       "3      0      12         70.00     66.00    0.00   10.00    0.00    0.00   \n",
       "4      0   60874       1368.00    458.00    0.00    0.00    0.00    0.00   \n",
       "\n",
       "   ag_002  ag_003  ...     ee_002    ee_003    ee_004    ee_005    ee_006  \\\n",
       "0    0.00    0.00  ... 1240520.00 493384.00 721044.00 469792.00 339156.00   \n",
       "1    0.00    0.00  ...  421400.00 178064.00 293306.00 245416.00 133654.00   \n",
       "2    0.00    0.00  ...  277378.00 159812.00 423992.00 409564.00 320746.00   \n",
       "3    0.00  318.00  ...     240.00     46.00     58.00     44.00     10.00   \n",
       "4    0.00    0.00  ...  622012.00 229790.00 405298.00 347188.00 286954.00   \n",
       "\n",
       "     ee_007    ee_008  ee_009  ef_000  eg_000  \n",
       "0 157956.00  73224.00    0.00    0.00    0.00  \n",
       "1  81140.00  97576.00 1500.00    0.00    0.00  \n",
       "2 158022.00  95128.00  514.00    0.00    0.00  \n",
       "3      0.00      0.00    0.00    4.00   32.00  \n",
       "4 311560.00 433954.00 1218.00    0.00    0.00  \n",
       "\n",
       "[5 rows x 161 columns]"
      ]
     },
     "execution_count": 89,
     "metadata": {},
     "output_type": "execute_result"
    }
   ],
   "source": [
    "df.fillna(df.mean(), inplace=True)\n",
    "df.head()"
   ]
  },
  {
   "cell_type": "markdown",
   "id": "74fec6b1",
   "metadata": {},
   "source": [
    "### To check if all the NaN values are removed:"
   ]
  },
  {
   "cell_type": "code",
   "execution_count": 90,
   "id": "cbf05bd1",
   "metadata": {},
   "outputs": [
    {
     "name": "stdout",
     "output_type": "stream",
     "text": [
      "0\n"
     ]
    }
   ],
   "source": [
    "nan_counts = df.isna().sum().sum()\n",
    "\n",
    "print(nan_counts)"
   ]
  },
  {
   "cell_type": "markdown",
   "id": "9a414c95",
   "metadata": {},
   "source": [
    "### I will use again previously used heatmap and bar chart to show data is clean now and there are no NaN values"
   ]
  },
  {
   "cell_type": "code",
   "execution_count": 91,
   "id": "13b39779",
   "metadata": {},
   "outputs": [
    {
     "data": {
      "image/png": "[encoded data removed]",
      "text/plain": [
       "<Figure size 720x432 with 2 Axes>"
      ]
     },
     "metadata": {},
     "output_type": "display_data"
    }
   ],
   "source": [
    "missing_values = df.isnull().sum()\n",
    "\n",
    "plt.figure(figsize=(10,6))\n",
    "sns.heatmap(df.isnull(), cmap='viridis')\n",
    "plt.title('Distribution of NaN Values')\n",
    "plt.show()"
   ]
  },
  {
   "cell_type": "code",
   "execution_count": 92,
   "id": "ae92b0a0",
   "metadata": {},
   "outputs": [
    {
     "data": {
      "image/png": "[encoded data removed]",
      "text/plain": [
       "<Figure size 648x432 with 1 Axes>"
      ]
     },
     "metadata": {},
     "output_type": "display_data"
    }
   ],
   "source": [
    "na_percentages = df.isna().sum() / len(df) * 100\n",
    "\n",
    "na_percentages_sorted = na_percentages.sort_values(ascending=False)\n",
    "\n",
    "top_10_na_features = na_percentages_sorted.head(10)\n",
    "\n",
    "plt.figure(figsize=(9,6))\n",
    "plt.bar(top_10_na_features.index, top_10_na_features.values)\n",
    "plt.xlabel('Columns')\n",
    "plt.ylabel('Percentage of NaN values')\n",
    "plt.title('Top 10 columns with highest NaN values')\n",
    "plt.show()"
   ]
  },
  {
   "cell_type": "markdown",
   "id": "0b723383",
   "metadata": {},
   "source": [
    "# PCA\n",
    "Before starting with PCA, I will normalize the data by applying minmax scalling on whole dataset."
   ]
  },
  {
   "cell_type": "code",
   "execution_count": 94,
   "id": "b6b932a7",
   "metadata": {},
   "outputs": [
    {
     "data": {
      "text/html": [
       "<div>\n",
       "<style scoped>\n",
       "    .dataframe tbody tr th:only-of-type {\n",
       "        vertical-align: middle;\n",
       "    }\n",
       "\n",
       "    .dataframe tbody tr th {\n",
       "        vertical-align: top;\n",
       "    }\n",
       "\n",
       "    .dataframe thead th {\n",
       "        text-align: right;\n",
       "    }\n",
       "</style>\n",
       "<table border=\"1\" class=\"dataframe\">\n",
       "  <thead>\n",
       "    <tr style=\"text-align: right;\">\n",
       "      <th></th>\n",
       "      <th>class</th>\n",
       "      <th>aa_000</th>\n",
       "      <th>ac_000</th>\n",
       "      <th>ad_000</th>\n",
       "      <th>ae_000</th>\n",
       "      <th>af_000</th>\n",
       "      <th>ag_000</th>\n",
       "      <th>ag_001</th>\n",
       "      <th>ag_002</th>\n",
       "      <th>ag_003</th>\n",
       "      <th>...</th>\n",
       "      <th>ee_002</th>\n",
       "      <th>ee_003</th>\n",
       "      <th>ee_004</th>\n",
       "      <th>ee_005</th>\n",
       "      <th>ee_006</th>\n",
       "      <th>ee_007</th>\n",
       "      <th>ee_008</th>\n",
       "      <th>ee_009</th>\n",
       "      <th>ef_000</th>\n",
       "      <th>eg_000</th>\n",
       "    </tr>\n",
       "  </thead>\n",
       "  <tbody>\n",
       "    <tr>\n",
       "      <th>0</th>\n",
       "      <td>0.00</td>\n",
       "      <td>0.03</td>\n",
       "      <td>1.00</td>\n",
       "      <td>0.00</td>\n",
       "      <td>0.00</td>\n",
       "      <td>0.00</td>\n",
       "      <td>0.00</td>\n",
       "      <td>0.00</td>\n",
       "      <td>0.00</td>\n",
       "      <td>0.00</td>\n",
       "      <td>...</td>\n",
       "      <td>0.02</td>\n",
       "      <td>0.01</td>\n",
       "      <td>0.01</td>\n",
       "      <td>0.01</td>\n",
       "      <td>0.01</td>\n",
       "      <td>0.00</td>\n",
       "      <td>0.00</td>\n",
       "      <td>0.00</td>\n",
       "      <td>0.00</td>\n",
       "      <td>0.00</td>\n",
       "    </tr>\n",
       "    <tr>\n",
       "      <th>1</th>\n",
       "      <td>0.00</td>\n",
       "      <td>0.01</td>\n",
       "      <td>0.00</td>\n",
       "      <td>0.00</td>\n",
       "      <td>0.00</td>\n",
       "      <td>0.00</td>\n",
       "      <td>0.00</td>\n",
       "      <td>0.00</td>\n",
       "      <td>0.00</td>\n",
       "      <td>0.00</td>\n",
       "      <td>...</td>\n",
       "      <td>0.01</td>\n",
       "      <td>0.00</td>\n",
       "      <td>0.00</td>\n",
       "      <td>0.00</td>\n",
       "      <td>0.00</td>\n",
       "      <td>0.00</td>\n",
       "      <td>0.01</td>\n",
       "      <td>0.00</td>\n",
       "      <td>0.00</td>\n",
       "      <td>0.00</td>\n",
       "    </tr>\n",
       "    <tr>\n",
       "      <th>2</th>\n",
       "      <td>0.00</td>\n",
       "      <td>0.01</td>\n",
       "      <td>0.00</td>\n",
       "      <td>0.00</td>\n",
       "      <td>0.00</td>\n",
       "      <td>0.00</td>\n",
       "      <td>0.00</td>\n",
       "      <td>0.00</td>\n",
       "      <td>0.00</td>\n",
       "      <td>0.00</td>\n",
       "      <td>...</td>\n",
       "      <td>0.00</td>\n",
       "      <td>0.00</td>\n",
       "      <td>0.00</td>\n",
       "      <td>0.01</td>\n",
       "      <td>0.01</td>\n",
       "      <td>0.00</td>\n",
       "      <td>0.00</td>\n",
       "      <td>0.00</td>\n",
       "      <td>0.00</td>\n",
       "      <td>0.00</td>\n",
       "    </tr>\n",
       "    <tr>\n",
       "      <th>3</th>\n",
       "      <td>0.00</td>\n",
       "      <td>0.00</td>\n",
       "      <td>0.00</td>\n",
       "      <td>0.00</td>\n",
       "      <td>0.00</td>\n",
       "      <td>0.00</td>\n",
       "      <td>0.00</td>\n",
       "      <td>0.00</td>\n",
       "      <td>0.00</td>\n",
       "      <td>0.00</td>\n",
       "      <td>...</td>\n",
       "      <td>0.00</td>\n",
       "      <td>0.00</td>\n",
       "      <td>0.00</td>\n",
       "      <td>0.00</td>\n",
       "      <td>0.00</td>\n",
       "      <td>0.00</td>\n",
       "      <td>0.00</td>\n",
       "      <td>0.00</td>\n",
       "      <td>0.01</td>\n",
       "      <td>0.03</td>\n",
       "    </tr>\n",
       "    <tr>\n",
       "      <th>4</th>\n",
       "      <td>0.00</td>\n",
       "      <td>0.02</td>\n",
       "      <td>0.00</td>\n",
       "      <td>0.00</td>\n",
       "      <td>0.00</td>\n",
       "      <td>0.00</td>\n",
       "      <td>0.00</td>\n",
       "      <td>0.00</td>\n",
       "      <td>0.00</td>\n",
       "      <td>0.00</td>\n",
       "      <td>...</td>\n",
       "      <td>0.01</td>\n",
       "      <td>0.01</td>\n",
       "      <td>0.00</td>\n",
       "      <td>0.01</td>\n",
       "      <td>0.01</td>\n",
       "      <td>0.00</td>\n",
       "      <td>0.02</td>\n",
       "      <td>0.00</td>\n",
       "      <td>0.00</td>\n",
       "      <td>0.00</td>\n",
       "    </tr>\n",
       "  </tbody>\n",
       "</table>\n",
       "<p>5 rows × 161 columns</p>\n",
       "</div>"
      ],
      "text/plain": [
       "   class  aa_000  ac_000  ad_000  ae_000  af_000  ag_000  ag_001  ag_002  \\\n",
       "0   0.00    0.03    1.00    0.00    0.00    0.00    0.00    0.00    0.00   \n",
       "1   0.00    0.01    0.00    0.00    0.00    0.00    0.00    0.00    0.00   \n",
       "2   0.00    0.01    0.00    0.00    0.00    0.00    0.00    0.00    0.00   \n",
       "3   0.00    0.00    0.00    0.00    0.00    0.00    0.00    0.00    0.00   \n",
       "4   0.00    0.02    0.00    0.00    0.00    0.00    0.00    0.00    0.00   \n",
       "\n",
       "   ag_003  ...  ee_002  ee_003  ee_004  ee_005  ee_006  ee_007  ee_008  \\\n",
       "0    0.00  ...    0.02    0.01    0.01    0.01    0.01    0.00    0.00   \n",
       "1    0.00  ...    0.01    0.00    0.00    0.00    0.00    0.00    0.01   \n",
       "2    0.00  ...    0.00    0.00    0.00    0.01    0.01    0.00    0.00   \n",
       "3    0.00  ...    0.00    0.00    0.00    0.00    0.00    0.00    0.00   \n",
       "4    0.00  ...    0.01    0.01    0.00    0.01    0.01    0.00    0.02   \n",
       "\n",
       "   ee_009  ef_000  eg_000  \n",
       "0    0.00    0.00    0.00  \n",
       "1    0.00    0.00    0.00  \n",
       "2    0.00    0.00    0.00  \n",
       "3    0.00    0.01    0.03  \n",
       "4    0.00    0.00    0.00  \n",
       "\n",
       "[5 rows x 161 columns]"
      ]
     },
     "execution_count": 94,
     "metadata": {},
     "output_type": "execute_result"
    }
   ],
   "source": [
    "scaled_df = pd.DataFrame()\n",
    "\n",
    "for col in df.columns:\n",
    "    scaled_df[col] = preprocessing.minmax_scale(df[col])\n",
    "\n",
    "scaled_df.head()"
   ]
  },
  {
   "cell_type": "code",
   "execution_count": 95,
   "id": "893155c6",
   "metadata": {},
   "outputs": [
    {
     "data": {
      "text/html": [
       "<div>\n",
       "<style scoped>\n",
       "    .dataframe tbody tr th:only-of-type {\n",
       "        vertical-align: middle;\n",
       "    }\n",
       "\n",
       "    .dataframe tbody tr th {\n",
       "        vertical-align: top;\n",
       "    }\n",
       "\n",
       "    .dataframe thead th {\n",
       "        text-align: right;\n",
       "    }\n",
       "</style>\n",
       "<table border=\"1\" class=\"dataframe\">\n",
       "  <thead>\n",
       "    <tr style=\"text-align: right;\">\n",
       "      <th></th>\n",
       "      <th>aa_000</th>\n",
       "      <th>ac_000</th>\n",
       "      <th>ad_000</th>\n",
       "      <th>ae_000</th>\n",
       "      <th>af_000</th>\n",
       "      <th>ag_000</th>\n",
       "      <th>ag_001</th>\n",
       "      <th>ag_002</th>\n",
       "      <th>ag_003</th>\n",
       "      <th>ag_004</th>\n",
       "      <th>...</th>\n",
       "      <th>ee_002</th>\n",
       "      <th>ee_003</th>\n",
       "      <th>ee_004</th>\n",
       "      <th>ee_005</th>\n",
       "      <th>ee_006</th>\n",
       "      <th>ee_007</th>\n",
       "      <th>ee_008</th>\n",
       "      <th>ee_009</th>\n",
       "      <th>ef_000</th>\n",
       "      <th>eg_000</th>\n",
       "    </tr>\n",
       "  </thead>\n",
       "  <tbody>\n",
       "    <tr>\n",
       "      <th>0</th>\n",
       "      <td>0.03</td>\n",
       "      <td>1.00</td>\n",
       "      <td>0.00</td>\n",
       "      <td>0.00</td>\n",
       "      <td>0.00</td>\n",
       "      <td>0.00</td>\n",
       "      <td>0.00</td>\n",
       "      <td>0.00</td>\n",
       "      <td>0.00</td>\n",
       "      <td>0.00</td>\n",
       "      <td>...</td>\n",
       "      <td>0.02</td>\n",
       "      <td>0.01</td>\n",
       "      <td>0.01</td>\n",
       "      <td>0.01</td>\n",
       "      <td>0.01</td>\n",
       "      <td>0.00</td>\n",
       "      <td>0.00</td>\n",
       "      <td>0.00</td>\n",
       "      <td>0.00</td>\n",
       "      <td>0.00</td>\n",
       "    </tr>\n",
       "    <tr>\n",
       "      <th>1</th>\n",
       "      <td>0.01</td>\n",
       "      <td>0.00</td>\n",
       "      <td>0.00</td>\n",
       "      <td>0.00</td>\n",
       "      <td>0.00</td>\n",
       "      <td>0.00</td>\n",
       "      <td>0.00</td>\n",
       "      <td>0.00</td>\n",
       "      <td>0.00</td>\n",
       "      <td>0.00</td>\n",
       "      <td>...</td>\n",
       "      <td>0.01</td>\n",
       "      <td>0.00</td>\n",
       "      <td>0.00</td>\n",
       "      <td>0.00</td>\n",
       "      <td>0.00</td>\n",
       "      <td>0.00</td>\n",
       "      <td>0.01</td>\n",
       "      <td>0.00</td>\n",
       "      <td>0.00</td>\n",
       "      <td>0.00</td>\n",
       "    </tr>\n",
       "    <tr>\n",
       "      <th>2</th>\n",
       "      <td>0.01</td>\n",
       "      <td>0.00</td>\n",
       "      <td>0.00</td>\n",
       "      <td>0.00</td>\n",
       "      <td>0.00</td>\n",
       "      <td>0.00</td>\n",
       "      <td>0.00</td>\n",
       "      <td>0.00</td>\n",
       "      <td>0.00</td>\n",
       "      <td>0.00</td>\n",
       "      <td>...</td>\n",
       "      <td>0.00</td>\n",
       "      <td>0.00</td>\n",
       "      <td>0.00</td>\n",
       "      <td>0.01</td>\n",
       "      <td>0.01</td>\n",
       "      <td>0.00</td>\n",
       "      <td>0.00</td>\n",
       "      <td>0.00</td>\n",
       "      <td>0.00</td>\n",
       "      <td>0.00</td>\n",
       "    </tr>\n",
       "    <tr>\n",
       "      <th>3</th>\n",
       "      <td>0.00</td>\n",
       "      <td>0.00</td>\n",
       "      <td>0.00</td>\n",
       "      <td>0.00</td>\n",
       "      <td>0.00</td>\n",
       "      <td>0.00</td>\n",
       "      <td>0.00</td>\n",
       "      <td>0.00</td>\n",
       "      <td>0.00</td>\n",
       "      <td>0.00</td>\n",
       "      <td>...</td>\n",
       "      <td>0.00</td>\n",
       "      <td>0.00</td>\n",
       "      <td>0.00</td>\n",
       "      <td>0.00</td>\n",
       "      <td>0.00</td>\n",
       "      <td>0.00</td>\n",
       "      <td>0.00</td>\n",
       "      <td>0.00</td>\n",
       "      <td>0.01</td>\n",
       "      <td>0.03</td>\n",
       "    </tr>\n",
       "    <tr>\n",
       "      <th>4</th>\n",
       "      <td>0.02</td>\n",
       "      <td>0.00</td>\n",
       "      <td>0.00</td>\n",
       "      <td>0.00</td>\n",
       "      <td>0.00</td>\n",
       "      <td>0.00</td>\n",
       "      <td>0.00</td>\n",
       "      <td>0.00</td>\n",
       "      <td>0.00</td>\n",
       "      <td>0.00</td>\n",
       "      <td>...</td>\n",
       "      <td>0.01</td>\n",
       "      <td>0.01</td>\n",
       "      <td>0.00</td>\n",
       "      <td>0.01</td>\n",
       "      <td>0.01</td>\n",
       "      <td>0.00</td>\n",
       "      <td>0.02</td>\n",
       "      <td>0.00</td>\n",
       "      <td>0.00</td>\n",
       "      <td>0.00</td>\n",
       "    </tr>\n",
       "    <tr>\n",
       "      <th>...</th>\n",
       "      <td>...</td>\n",
       "      <td>...</td>\n",
       "      <td>...</td>\n",
       "      <td>...</td>\n",
       "      <td>...</td>\n",
       "      <td>...</td>\n",
       "      <td>...</td>\n",
       "      <td>...</td>\n",
       "      <td>...</td>\n",
       "      <td>...</td>\n",
       "      <td>...</td>\n",
       "      <td>...</td>\n",
       "      <td>...</td>\n",
       "      <td>...</td>\n",
       "      <td>...</td>\n",
       "      <td>...</td>\n",
       "      <td>...</td>\n",
       "      <td>...</td>\n",
       "      <td>...</td>\n",
       "      <td>...</td>\n",
       "      <td>...</td>\n",
       "    </tr>\n",
       "    <tr>\n",
       "      <th>59995</th>\n",
       "      <td>0.06</td>\n",
       "      <td>0.00</td>\n",
       "      <td>0.00</td>\n",
       "      <td>0.00</td>\n",
       "      <td>0.00</td>\n",
       "      <td>0.00</td>\n",
       "      <td>0.00</td>\n",
       "      <td>0.00</td>\n",
       "      <td>0.00</td>\n",
       "      <td>0.00</td>\n",
       "      <td>...</td>\n",
       "      <td>0.01</td>\n",
       "      <td>0.02</td>\n",
       "      <td>0.01</td>\n",
       "      <td>0.02</td>\n",
       "      <td>0.03</td>\n",
       "      <td>0.01</td>\n",
       "      <td>0.05</td>\n",
       "      <td>0.01</td>\n",
       "      <td>0.00</td>\n",
       "      <td>0.00</td>\n",
       "    </tr>\n",
       "    <tr>\n",
       "      <th>59996</th>\n",
       "      <td>0.00</td>\n",
       "      <td>1.00</td>\n",
       "      <td>0.00</td>\n",
       "      <td>0.00</td>\n",
       "      <td>0.00</td>\n",
       "      <td>0.00</td>\n",
       "      <td>0.00</td>\n",
       "      <td>0.00</td>\n",
       "      <td>0.00</td>\n",
       "      <td>0.00</td>\n",
       "      <td>...</td>\n",
       "      <td>0.00</td>\n",
       "      <td>0.00</td>\n",
       "      <td>0.00</td>\n",
       "      <td>0.00</td>\n",
       "      <td>0.00</td>\n",
       "      <td>0.00</td>\n",
       "      <td>0.00</td>\n",
       "      <td>0.00</td>\n",
       "      <td>0.00</td>\n",
       "      <td>0.00</td>\n",
       "    </tr>\n",
       "    <tr>\n",
       "      <th>59997</th>\n",
       "      <td>0.00</td>\n",
       "      <td>1.00</td>\n",
       "      <td>0.00</td>\n",
       "      <td>0.00</td>\n",
       "      <td>0.00</td>\n",
       "      <td>0.00</td>\n",
       "      <td>0.00</td>\n",
       "      <td>0.00</td>\n",
       "      <td>0.00</td>\n",
       "      <td>0.00</td>\n",
       "      <td>...</td>\n",
       "      <td>0.00</td>\n",
       "      <td>0.00</td>\n",
       "      <td>0.00</td>\n",
       "      <td>0.00</td>\n",
       "      <td>0.00</td>\n",
       "      <td>0.00</td>\n",
       "      <td>0.00</td>\n",
       "      <td>0.00</td>\n",
       "      <td>0.00</td>\n",
       "      <td>0.00</td>\n",
       "    </tr>\n",
       "    <tr>\n",
       "      <th>59998</th>\n",
       "      <td>0.03</td>\n",
       "      <td>1.00</td>\n",
       "      <td>0.00</td>\n",
       "      <td>0.00</td>\n",
       "      <td>0.00</td>\n",
       "      <td>0.00</td>\n",
       "      <td>0.00</td>\n",
       "      <td>0.00</td>\n",
       "      <td>0.00</td>\n",
       "      <td>0.00</td>\n",
       "      <td>...</td>\n",
       "      <td>0.01</td>\n",
       "      <td>0.01</td>\n",
       "      <td>0.00</td>\n",
       "      <td>0.00</td>\n",
       "      <td>0.01</td>\n",
       "      <td>0.00</td>\n",
       "      <td>0.04</td>\n",
       "      <td>0.10</td>\n",
       "      <td>0.00</td>\n",
       "      <td>0.00</td>\n",
       "    </tr>\n",
       "    <tr>\n",
       "      <th>59999</th>\n",
       "      <td>0.01</td>\n",
       "      <td>0.00</td>\n",
       "      <td>0.00</td>\n",
       "      <td>0.00</td>\n",
       "      <td>0.00</td>\n",
       "      <td>0.00</td>\n",
       "      <td>0.00</td>\n",
       "      <td>0.00</td>\n",
       "      <td>0.00</td>\n",
       "      <td>0.00</td>\n",
       "      <td>...</td>\n",
       "      <td>0.01</td>\n",
       "      <td>0.00</td>\n",
       "      <td>0.00</td>\n",
       "      <td>0.00</td>\n",
       "      <td>0.01</td>\n",
       "      <td>0.00</td>\n",
       "      <td>0.01</td>\n",
       "      <td>0.00</td>\n",
       "      <td>0.00</td>\n",
       "      <td>0.00</td>\n",
       "    </tr>\n",
       "  </tbody>\n",
       "</table>\n",
       "<p>60000 rows × 160 columns</p>\n",
       "</div>"
      ],
      "text/plain": [
       "       aa_000  ac_000  ad_000  ae_000  af_000  ag_000  ag_001  ag_002  ag_003  \\\n",
       "0        0.03    1.00    0.00    0.00    0.00    0.00    0.00    0.00    0.00   \n",
       "1        0.01    0.00    0.00    0.00    0.00    0.00    0.00    0.00    0.00   \n",
       "2        0.01    0.00    0.00    0.00    0.00    0.00    0.00    0.00    0.00   \n",
       "3        0.00    0.00    0.00    0.00    0.00    0.00    0.00    0.00    0.00   \n",
       "4        0.02    0.00    0.00    0.00    0.00    0.00    0.00    0.00    0.00   \n",
       "...       ...     ...     ...     ...     ...     ...     ...     ...     ...   \n",
       "59995    0.06    0.00    0.00    0.00    0.00    0.00    0.00    0.00    0.00   \n",
       "59996    0.00    1.00    0.00    0.00    0.00    0.00    0.00    0.00    0.00   \n",
       "59997    0.00    1.00    0.00    0.00    0.00    0.00    0.00    0.00    0.00   \n",
       "59998    0.03    1.00    0.00    0.00    0.00    0.00    0.00    0.00    0.00   \n",
       "59999    0.01    0.00    0.00    0.00    0.00    0.00    0.00    0.00    0.00   \n",
       "\n",
       "       ag_004  ...  ee_002  ee_003  ee_004  ee_005  ee_006  ee_007  ee_008  \\\n",
       "0        0.00  ...    0.02    0.01    0.01    0.01    0.01    0.00    0.00   \n",
       "1        0.00  ...    0.01    0.00    0.00    0.00    0.00    0.00    0.01   \n",
       "2        0.00  ...    0.00    0.00    0.00    0.01    0.01    0.00    0.00   \n",
       "3        0.00  ...    0.00    0.00    0.00    0.00    0.00    0.00    0.00   \n",
       "4        0.00  ...    0.01    0.01    0.00    0.01    0.01    0.00    0.02   \n",
       "...       ...  ...     ...     ...     ...     ...     ...     ...     ...   \n",
       "59995    0.00  ...    0.01    0.02    0.01    0.02    0.03    0.01    0.05   \n",
       "59996    0.00  ...    0.00    0.00    0.00    0.00    0.00    0.00    0.00   \n",
       "59997    0.00  ...    0.00    0.00    0.00    0.00    0.00    0.00    0.00   \n",
       "59998    0.00  ...    0.01    0.01    0.00    0.00    0.01    0.00    0.04   \n",
       "59999    0.00  ...    0.01    0.00    0.00    0.00    0.01    0.00    0.01   \n",
       "\n",
       "       ee_009  ef_000  eg_000  \n",
       "0        0.00    0.00    0.00  \n",
       "1        0.00    0.00    0.00  \n",
       "2        0.00    0.00    0.00  \n",
       "3        0.00    0.01    0.03  \n",
       "4        0.00    0.00    0.00  \n",
       "...       ...     ...     ...  \n",
       "59995    0.01    0.00    0.00  \n",
       "59996    0.00    0.00    0.00  \n",
       "59997    0.00    0.00    0.00  \n",
       "59998    0.10    0.00    0.00  \n",
       "59999    0.00    0.00    0.00  \n",
       "\n",
       "[60000 rows x 160 columns]"
      ]
     },
     "execution_count": 95,
     "metadata": {},
     "output_type": "execute_result"
    }
   ],
   "source": [
    "ScaniaNoLabel = scaled_df.drop(columns='class')\n",
    "ScaniaNoLabel"
   ]
  },
  {
   "cell_type": "code",
   "execution_count": 96,
   "id": "92fe67dc",
   "metadata": {},
   "outputs": [
    {
     "data": {
      "text/plain": [
       "Text(0, 0.5, 'cumulative explained variance')"
      ]
     },
     "execution_count": 96,
     "metadata": {},
     "output_type": "execute_result"
    },
    {
     "data": {
      "image/png": "[encoded data removed]",
      "text/plain": [
       "<Figure size 432x288 with 1 Axes>"
      ]
     },
     "metadata": {},
     "output_type": "display_data"
    }
   ],
   "source": [
    "pca = PCA().fit(ScaniaNoLabel)\n",
    "plt.plot(np.cumsum(pca.explained_variance_ratio_))\n",
    "plt.xlabel('number of components')\n",
    "plt.ylabel('cumulative explained variance')"
   ]
  },
  {
   "cell_type": "markdown",
   "id": "043fcfe2",
   "metadata": {},
   "source": [
    "### As number of components is too high, I will reduce it to 10 components, to get more clear image:"
   ]
  },
  {
   "cell_type": "code",
   "execution_count": 98,
   "id": "0016df95",
   "metadata": {},
   "outputs": [
    {
     "data": {
      "text/plain": [
       "Text(0, 0.5, 'cumulative explained variance')"
      ]
     },
     "execution_count": 98,
     "metadata": {},
     "output_type": "execute_result"
    },
    {
     "data": {
      "image/png": "[encoded data removed]",
      "text/plain": [
       "<Figure size 432x288 with 1 Axes>"
      ]
     },
     "metadata": {},
     "output_type": "display_data"
    }
   ],
   "source": [
    "pca = PCA(10).fit(ScaniaNoLabel)\n",
    "plt.plot(np.cumsum(pca.explained_variance_ratio_))\n",
    "plt.axhline(y=0.95, color='r', linestyle='-')\n",
    "plt.xlabel('number of components')\n",
    "plt.ylabel('cumulative explained variance')"
   ]
  },
  {
   "cell_type": "markdown",
   "id": "91d66a01",
   "metadata": {},
   "source": [
    "### I'm taking 9 components as I'm getting 95% somewhere on 9th component."
   ]
  },
  {
   "cell_type": "code",
   "execution_count": 99,
   "id": "c9207106",
   "metadata": {},
   "outputs": [
    {
     "data": {
      "text/plain": [
       "(60000, 9)"
      ]
     },
     "execution_count": 99,
     "metadata": {},
     "output_type": "execute_result"
    }
   ],
   "source": [
    "pca = PCA(n_components=9)\n",
    "projected = pca.fit_transform(ScaniaNoLabel)\n",
    "projected.shape"
   ]
  },
  {
   "cell_type": "code",
   "execution_count": 100,
   "id": "15c2d4ed",
   "metadata": {},
   "outputs": [
    {
     "data": {
      "text/html": [
       "<div>\n",
       "<style scoped>\n",
       "    .dataframe tbody tr th:only-of-type {\n",
       "        vertical-align: middle;\n",
       "    }\n",
       "\n",
       "    .dataframe tbody tr th {\n",
       "        vertical-align: top;\n",
       "    }\n",
       "\n",
       "    .dataframe thead th {\n",
       "        text-align: right;\n",
       "    }\n",
       "</style>\n",
       "<table border=\"1\" class=\"dataframe\">\n",
       "  <thead>\n",
       "    <tr style=\"text-align: right;\">\n",
       "      <th></th>\n",
       "      <th>C1</th>\n",
       "      <th>C2</th>\n",
       "      <th>C3</th>\n",
       "      <th>C4</th>\n",
       "      <th>C5</th>\n",
       "      <th>C6</th>\n",
       "      <th>C7</th>\n",
       "      <th>C8</th>\n",
       "      <th>C9</th>\n",
       "    </tr>\n",
       "  </thead>\n",
       "  <tbody>\n",
       "    <tr>\n",
       "      <th>0</th>\n",
       "      <td>0.35</td>\n",
       "      <td>0.79</td>\n",
       "      <td>0.07</td>\n",
       "      <td>-0.05</td>\n",
       "      <td>0.01</td>\n",
       "      <td>-0.05</td>\n",
       "      <td>-0.03</td>\n",
       "      <td>0.04</td>\n",
       "      <td>-0.04</td>\n",
       "    </tr>\n",
       "    <tr>\n",
       "      <th>1</th>\n",
       "      <td>0.15</td>\n",
       "      <td>-0.18</td>\n",
       "      <td>-0.12</td>\n",
       "      <td>0.68</td>\n",
       "      <td>0.02</td>\n",
       "      <td>0.05</td>\n",
       "      <td>-0.01</td>\n",
       "      <td>0.02</td>\n",
       "      <td>-0.03</td>\n",
       "    </tr>\n",
       "    <tr>\n",
       "      <th>2</th>\n",
       "      <td>-0.22</td>\n",
       "      <td>-0.14</td>\n",
       "      <td>-0.01</td>\n",
       "      <td>-0.01</td>\n",
       "      <td>0.00</td>\n",
       "      <td>-0.02</td>\n",
       "      <td>0.00</td>\n",
       "      <td>-0.02</td>\n",
       "      <td>0.02</td>\n",
       "    </tr>\n",
       "    <tr>\n",
       "      <th>3</th>\n",
       "      <td>-0.48</td>\n",
       "      <td>-0.11</td>\n",
       "      <td>-0.03</td>\n",
       "      <td>-0.01</td>\n",
       "      <td>0.00</td>\n",
       "      <td>0.01</td>\n",
       "      <td>-0.00</td>\n",
       "      <td>0.00</td>\n",
       "      <td>-0.00</td>\n",
       "    </tr>\n",
       "    <tr>\n",
       "      <th>4</th>\n",
       "      <td>0.27</td>\n",
       "      <td>-0.20</td>\n",
       "      <td>-0.05</td>\n",
       "      <td>-0.02</td>\n",
       "      <td>-0.01</td>\n",
       "      <td>-0.02</td>\n",
       "      <td>-0.01</td>\n",
       "      <td>0.03</td>\n",
       "      <td>-0.05</td>\n",
       "    </tr>\n",
       "    <tr>\n",
       "      <th>...</th>\n",
       "      <td>...</td>\n",
       "      <td>...</td>\n",
       "      <td>...</td>\n",
       "      <td>...</td>\n",
       "      <td>...</td>\n",
       "      <td>...</td>\n",
       "      <td>...</td>\n",
       "      <td>...</td>\n",
       "      <td>...</td>\n",
       "    </tr>\n",
       "    <tr>\n",
       "      <th>59995</th>\n",
       "      <td>0.85</td>\n",
       "      <td>-0.27</td>\n",
       "      <td>-0.01</td>\n",
       "      <td>-0.01</td>\n",
       "      <td>0.02</td>\n",
       "      <td>-0.06</td>\n",
       "      <td>-0.03</td>\n",
       "      <td>-0.00</td>\n",
       "      <td>-0.04</td>\n",
       "    </tr>\n",
       "    <tr>\n",
       "      <th>59996</th>\n",
       "      <td>-0.21</td>\n",
       "      <td>0.87</td>\n",
       "      <td>-0.01</td>\n",
       "      <td>-0.01</td>\n",
       "      <td>-0.00</td>\n",
       "      <td>0.02</td>\n",
       "      <td>0.00</td>\n",
       "      <td>-0.00</td>\n",
       "      <td>0.00</td>\n",
       "    </tr>\n",
       "    <tr>\n",
       "      <th>59997</th>\n",
       "      <td>-0.33</td>\n",
       "      <td>0.88</td>\n",
       "      <td>0.01</td>\n",
       "      <td>-0.01</td>\n",
       "      <td>-0.00</td>\n",
       "      <td>0.01</td>\n",
       "      <td>0.00</td>\n",
       "      <td>0.00</td>\n",
       "      <td>-0.00</td>\n",
       "    </tr>\n",
       "    <tr>\n",
       "      <th>59998</th>\n",
       "      <td>-0.26</td>\n",
       "      <td>0.86</td>\n",
       "      <td>0.20</td>\n",
       "      <td>-0.03</td>\n",
       "      <td>0.02</td>\n",
       "      <td>-0.07</td>\n",
       "      <td>-0.04</td>\n",
       "      <td>0.02</td>\n",
       "      <td>0.02</td>\n",
       "    </tr>\n",
       "    <tr>\n",
       "      <th>59999</th>\n",
       "      <td>0.24</td>\n",
       "      <td>-0.19</td>\n",
       "      <td>-0.09</td>\n",
       "      <td>-0.01</td>\n",
       "      <td>0.01</td>\n",
       "      <td>-0.00</td>\n",
       "      <td>-0.00</td>\n",
       "      <td>-0.01</td>\n",
       "      <td>0.01</td>\n",
       "    </tr>\n",
       "  </tbody>\n",
       "</table>\n",
       "<p>60000 rows × 9 columns</p>\n",
       "</div>"
      ],
      "text/plain": [
       "         C1    C2    C3    C4    C5    C6    C7    C8    C9\n",
       "0      0.35  0.79  0.07 -0.05  0.01 -0.05 -0.03  0.04 -0.04\n",
       "1      0.15 -0.18 -0.12  0.68  0.02  0.05 -0.01  0.02 -0.03\n",
       "2     -0.22 -0.14 -0.01 -0.01  0.00 -0.02  0.00 -0.02  0.02\n",
       "3     -0.48 -0.11 -0.03 -0.01  0.00  0.01 -0.00  0.00 -0.00\n",
       "4      0.27 -0.20 -0.05 -0.02 -0.01 -0.02 -0.01  0.03 -0.05\n",
       "...     ...   ...   ...   ...   ...   ...   ...   ...   ...\n",
       "59995  0.85 -0.27 -0.01 -0.01  0.02 -0.06 -0.03 -0.00 -0.04\n",
       "59996 -0.21  0.87 -0.01 -0.01 -0.00  0.02  0.00 -0.00  0.00\n",
       "59997 -0.33  0.88  0.01 -0.01 -0.00  0.01  0.00  0.00 -0.00\n",
       "59998 -0.26  0.86  0.20 -0.03  0.02 -0.07 -0.04  0.02  0.02\n",
       "59999  0.24 -0.19 -0.09 -0.01  0.01 -0.00 -0.00 -0.01  0.01\n",
       "\n",
       "[60000 rows x 9 columns]"
      ]
     },
     "execution_count": 100,
     "metadata": {},
     "output_type": "execute_result"
    }
   ],
   "source": [
    "scania_pca = pd.DataFrame(projected, columns=['C1', 'C2','C3','C4','C5','C6','C7','C8','C9'])\n",
    "scania_pca"
   ]
  },
  {
   "cell_type": "code",
   "execution_count": 101,
   "id": "e52583fa",
   "metadata": {
    "scrolled": false
   },
   "outputs": [
    {
     "data": {
      "text/html": [
       "<div>\n",
       "<style scoped>\n",
       "    .dataframe tbody tr th:only-of-type {\n",
       "        vertical-align: middle;\n",
       "    }\n",
       "\n",
       "    .dataframe tbody tr th {\n",
       "        vertical-align: top;\n",
       "    }\n",
       "\n",
       "    .dataframe thead th {\n",
       "        text-align: right;\n",
       "    }\n",
       "</style>\n",
       "<table border=\"1\" class=\"dataframe\">\n",
       "  <thead>\n",
       "    <tr style=\"text-align: right;\">\n",
       "      <th></th>\n",
       "      <th>C1</th>\n",
       "      <th>C2</th>\n",
       "      <th>C3</th>\n",
       "      <th>C4</th>\n",
       "      <th>C5</th>\n",
       "      <th>C6</th>\n",
       "      <th>C7</th>\n",
       "      <th>C8</th>\n",
       "      <th>C9</th>\n",
       "      <th>class</th>\n",
       "    </tr>\n",
       "  </thead>\n",
       "  <tbody>\n",
       "    <tr>\n",
       "      <th>0</th>\n",
       "      <td>0.35</td>\n",
       "      <td>0.79</td>\n",
       "      <td>0.07</td>\n",
       "      <td>-0.05</td>\n",
       "      <td>0.01</td>\n",
       "      <td>-0.05</td>\n",
       "      <td>-0.03</td>\n",
       "      <td>0.04</td>\n",
       "      <td>-0.04</td>\n",
       "      <td>0</td>\n",
       "    </tr>\n",
       "    <tr>\n",
       "      <th>1</th>\n",
       "      <td>0.15</td>\n",
       "      <td>-0.18</td>\n",
       "      <td>-0.12</td>\n",
       "      <td>0.68</td>\n",
       "      <td>0.02</td>\n",
       "      <td>0.05</td>\n",
       "      <td>-0.01</td>\n",
       "      <td>0.02</td>\n",
       "      <td>-0.03</td>\n",
       "      <td>0</td>\n",
       "    </tr>\n",
       "    <tr>\n",
       "      <th>2</th>\n",
       "      <td>-0.22</td>\n",
       "      <td>-0.14</td>\n",
       "      <td>-0.01</td>\n",
       "      <td>-0.01</td>\n",
       "      <td>0.00</td>\n",
       "      <td>-0.02</td>\n",
       "      <td>0.00</td>\n",
       "      <td>-0.02</td>\n",
       "      <td>0.02</td>\n",
       "      <td>0</td>\n",
       "    </tr>\n",
       "    <tr>\n",
       "      <th>3</th>\n",
       "      <td>-0.48</td>\n",
       "      <td>-0.11</td>\n",
       "      <td>-0.03</td>\n",
       "      <td>-0.01</td>\n",
       "      <td>0.00</td>\n",
       "      <td>0.01</td>\n",
       "      <td>-0.00</td>\n",
       "      <td>0.00</td>\n",
       "      <td>-0.00</td>\n",
       "      <td>0</td>\n",
       "    </tr>\n",
       "    <tr>\n",
       "      <th>4</th>\n",
       "      <td>0.27</td>\n",
       "      <td>-0.20</td>\n",
       "      <td>-0.05</td>\n",
       "      <td>-0.02</td>\n",
       "      <td>-0.01</td>\n",
       "      <td>-0.02</td>\n",
       "      <td>-0.01</td>\n",
       "      <td>0.03</td>\n",
       "      <td>-0.05</td>\n",
       "      <td>0</td>\n",
       "    </tr>\n",
       "    <tr>\n",
       "      <th>...</th>\n",
       "      <td>...</td>\n",
       "      <td>...</td>\n",
       "      <td>...</td>\n",
       "      <td>...</td>\n",
       "      <td>...</td>\n",
       "      <td>...</td>\n",
       "      <td>...</td>\n",
       "      <td>...</td>\n",
       "      <td>...</td>\n",
       "      <td>...</td>\n",
       "    </tr>\n",
       "    <tr>\n",
       "      <th>59995</th>\n",
       "      <td>0.85</td>\n",
       "      <td>-0.27</td>\n",
       "      <td>-0.01</td>\n",
       "      <td>-0.01</td>\n",
       "      <td>0.02</td>\n",
       "      <td>-0.06</td>\n",
       "      <td>-0.03</td>\n",
       "      <td>-0.00</td>\n",
       "      <td>-0.04</td>\n",
       "      <td>0</td>\n",
       "    </tr>\n",
       "    <tr>\n",
       "      <th>59996</th>\n",
       "      <td>-0.21</td>\n",
       "      <td>0.87</td>\n",
       "      <td>-0.01</td>\n",
       "      <td>-0.01</td>\n",
       "      <td>-0.00</td>\n",
       "      <td>0.02</td>\n",
       "      <td>0.00</td>\n",
       "      <td>-0.00</td>\n",
       "      <td>0.00</td>\n",
       "      <td>0</td>\n",
       "    </tr>\n",
       "    <tr>\n",
       "      <th>59997</th>\n",
       "      <td>-0.33</td>\n",
       "      <td>0.88</td>\n",
       "      <td>0.01</td>\n",
       "      <td>-0.01</td>\n",
       "      <td>-0.00</td>\n",
       "      <td>0.01</td>\n",
       "      <td>0.00</td>\n",
       "      <td>0.00</td>\n",
       "      <td>-0.00</td>\n",
       "      <td>0</td>\n",
       "    </tr>\n",
       "    <tr>\n",
       "      <th>59998</th>\n",
       "      <td>-0.26</td>\n",
       "      <td>0.86</td>\n",
       "      <td>0.20</td>\n",
       "      <td>-0.03</td>\n",
       "      <td>0.02</td>\n",
       "      <td>-0.07</td>\n",
       "      <td>-0.04</td>\n",
       "      <td>0.02</td>\n",
       "      <td>0.02</td>\n",
       "      <td>0</td>\n",
       "    </tr>\n",
       "    <tr>\n",
       "      <th>59999</th>\n",
       "      <td>0.24</td>\n",
       "      <td>-0.19</td>\n",
       "      <td>-0.09</td>\n",
       "      <td>-0.01</td>\n",
       "      <td>0.01</td>\n",
       "      <td>-0.00</td>\n",
       "      <td>-0.00</td>\n",
       "      <td>-0.01</td>\n",
       "      <td>0.01</td>\n",
       "      <td>0</td>\n",
       "    </tr>\n",
       "  </tbody>\n",
       "</table>\n",
       "<p>60000 rows × 10 columns</p>\n",
       "</div>"
      ],
      "text/plain": [
       "         C1    C2    C3    C4    C5    C6    C7    C8    C9  class\n",
       "0      0.35  0.79  0.07 -0.05  0.01 -0.05 -0.03  0.04 -0.04      0\n",
       "1      0.15 -0.18 -0.12  0.68  0.02  0.05 -0.01  0.02 -0.03      0\n",
       "2     -0.22 -0.14 -0.01 -0.01  0.00 -0.02  0.00 -0.02  0.02      0\n",
       "3     -0.48 -0.11 -0.03 -0.01  0.00  0.01 -0.00  0.00 -0.00      0\n",
       "4      0.27 -0.20 -0.05 -0.02 -0.01 -0.02 -0.01  0.03 -0.05      0\n",
       "...     ...   ...   ...   ...   ...   ...   ...   ...   ...    ...\n",
       "59995  0.85 -0.27 -0.01 -0.01  0.02 -0.06 -0.03 -0.00 -0.04      0\n",
       "59996 -0.21  0.87 -0.01 -0.01 -0.00  0.02  0.00 -0.00  0.00      0\n",
       "59997 -0.33  0.88  0.01 -0.01 -0.00  0.01  0.00  0.00 -0.00      0\n",
       "59998 -0.26  0.86  0.20 -0.03  0.02 -0.07 -0.04  0.02  0.02      0\n",
       "59999  0.24 -0.19 -0.09 -0.01  0.01 -0.00 -0.00 -0.01  0.01      0\n",
       "\n",
       "[60000 rows x 10 columns]"
      ]
     },
     "execution_count": 101,
     "metadata": {},
     "output_type": "execute_result"
    }
   ],
   "source": [
    "scania_pca['class'] = df['class']\n",
    "scania_pca"
   ]
  },
  {
   "cell_type": "markdown",
   "id": "3e46b88c",
   "metadata": {},
   "source": [
    "# "
   ]
  },
  {
   "cell_type": "markdown",
   "id": "02eed471",
   "metadata": {},
   "source": [
    "# Statistics"
   ]
  },
  {
   "cell_type": "markdown",
   "id": "37a5e08e",
   "metadata": {},
   "source": [
    "### Descriptive Statistical Analysis\n",
    "Creating positive and negative classes first"
   ]
  },
  {
   "cell_type": "code",
   "execution_count": 102,
   "id": "01141711",
   "metadata": {},
   "outputs": [],
   "source": [
    "positive_df = df.groupby('class').get_group(1)"
   ]
  },
  {
   "cell_type": "code",
   "execution_count": 103,
   "id": "5d2b8bcf",
   "metadata": {},
   "outputs": [
    {
     "data": {
      "text/html": [
       "<div>\n",
       "<style scoped>\n",
       "    .dataframe tbody tr th:only-of-type {\n",
       "        vertical-align: middle;\n",
       "    }\n",
       "\n",
       "    .dataframe tbody tr th {\n",
       "        vertical-align: top;\n",
       "    }\n",
       "\n",
       "    .dataframe thead th {\n",
       "        text-align: right;\n",
       "    }\n",
       "</style>\n",
       "<table border=\"1\" class=\"dataframe\">\n",
       "  <thead>\n",
       "    <tr style=\"text-align: right;\">\n",
       "      <th></th>\n",
       "      <th>class</th>\n",
       "      <th>aa_000</th>\n",
       "      <th>ac_000</th>\n",
       "      <th>ad_000</th>\n",
       "      <th>ae_000</th>\n",
       "      <th>af_000</th>\n",
       "      <th>ag_000</th>\n",
       "      <th>ag_001</th>\n",
       "      <th>ag_002</th>\n",
       "      <th>ag_003</th>\n",
       "      <th>...</th>\n",
       "      <th>ee_002</th>\n",
       "      <th>ee_003</th>\n",
       "      <th>ee_004</th>\n",
       "      <th>ee_005</th>\n",
       "      <th>ee_006</th>\n",
       "      <th>ee_007</th>\n",
       "      <th>ee_008</th>\n",
       "      <th>ee_009</th>\n",
       "      <th>ef_000</th>\n",
       "      <th>eg_000</th>\n",
       "    </tr>\n",
       "  </thead>\n",
       "  <tbody>\n",
       "    <tr>\n",
       "      <th>59484</th>\n",
       "      <td>1</td>\n",
       "      <td>895178</td>\n",
       "      <td>356014263.03</td>\n",
       "      <td>190620.64</td>\n",
       "      <td>6.82</td>\n",
       "      <td>11.01</td>\n",
       "      <td>0.00</td>\n",
       "      <td>0.00</td>\n",
       "      <td>0.00</td>\n",
       "      <td>0.00</td>\n",
       "      <td>...</td>\n",
       "      <td>9116224.00</td>\n",
       "      <td>4276644.00</td>\n",
       "      <td>8701496.00</td>\n",
       "      <td>8082264.00</td>\n",
       "      <td>5827284.00</td>\n",
       "      <td>2057354.00</td>\n",
       "      <td>1662302.00</td>\n",
       "      <td>10790.00</td>\n",
       "      <td>0.09</td>\n",
       "      <td>0.21</td>\n",
       "    </tr>\n",
       "    <tr>\n",
       "      <th>59601</th>\n",
       "      <td>1</td>\n",
       "      <td>862134</td>\n",
       "      <td>356014263.03</td>\n",
       "      <td>190620.64</td>\n",
       "      <td>6.82</td>\n",
       "      <td>11.01</td>\n",
       "      <td>0.00</td>\n",
       "      <td>38834.00</td>\n",
       "      <td>1227952.00</td>\n",
       "      <td>8877294.00</td>\n",
       "      <td>...</td>\n",
       "      <td>3456564.00</td>\n",
       "      <td>1793170.00</td>\n",
       "      <td>4159190.00</td>\n",
       "      <td>5847384.00</td>\n",
       "      <td>8364506.00</td>\n",
       "      <td>12875424.00</td>\n",
       "      <td>661442.00</td>\n",
       "      <td>2458.00</td>\n",
       "      <td>0.09</td>\n",
       "      <td>0.21</td>\n",
       "    </tr>\n",
       "    <tr>\n",
       "      <th>59692</th>\n",
       "      <td>1</td>\n",
       "      <td>186856</td>\n",
       "      <td>356014263.03</td>\n",
       "      <td>190620.64</td>\n",
       "      <td>0.00</td>\n",
       "      <td>0.00</td>\n",
       "      <td>0.00</td>\n",
       "      <td>0.00</td>\n",
       "      <td>4300.00</td>\n",
       "      <td>910488.00</td>\n",
       "      <td>...</td>\n",
       "      <td>2713108.00</td>\n",
       "      <td>800182.00</td>\n",
       "      <td>322322.00</td>\n",
       "      <td>71638.00</td>\n",
       "      <td>34662.00</td>\n",
       "      <td>7304.00</td>\n",
       "      <td>2538.00</td>\n",
       "      <td>0.00</td>\n",
       "      <td>0.00</td>\n",
       "      <td>0.00</td>\n",
       "    </tr>\n",
       "    <tr>\n",
       "      <th>59742</th>\n",
       "      <td>1</td>\n",
       "      <td>605092</td>\n",
       "      <td>356014263.03</td>\n",
       "      <td>190620.64</td>\n",
       "      <td>6.82</td>\n",
       "      <td>11.01</td>\n",
       "      <td>0.00</td>\n",
       "      <td>44320.00</td>\n",
       "      <td>1048970.00</td>\n",
       "      <td>7820828.00</td>\n",
       "      <td>...</td>\n",
       "      <td>3940400.00</td>\n",
       "      <td>1865730.00</td>\n",
       "      <td>3698692.00</td>\n",
       "      <td>3271958.00</td>\n",
       "      <td>9831898.00</td>\n",
       "      <td>3755392.00</td>\n",
       "      <td>65610.00</td>\n",
       "      <td>0.00</td>\n",
       "      <td>0.09</td>\n",
       "      <td>0.21</td>\n",
       "    </tr>\n",
       "    <tr>\n",
       "      <th>59769</th>\n",
       "      <td>1</td>\n",
       "      <td>331704</td>\n",
       "      <td>1484.00</td>\n",
       "      <td>1142.00</td>\n",
       "      <td>0.00</td>\n",
       "      <td>0.00</td>\n",
       "      <td>0.00</td>\n",
       "      <td>267100.00</td>\n",
       "      <td>1384372.00</td>\n",
       "      <td>6484382.00</td>\n",
       "      <td>...</td>\n",
       "      <td>3738648.00</td>\n",
       "      <td>1425312.00</td>\n",
       "      <td>3381954.00</td>\n",
       "      <td>4346910.00</td>\n",
       "      <td>2166330.00</td>\n",
       "      <td>296580.00</td>\n",
       "      <td>15434.00</td>\n",
       "      <td>0.00</td>\n",
       "      <td>0.00</td>\n",
       "      <td>0.00</td>\n",
       "    </tr>\n",
       "  </tbody>\n",
       "</table>\n",
       "<p>5 rows × 161 columns</p>\n",
       "</div>"
      ],
      "text/plain": [
       "       class  aa_000       ac_000    ad_000  ae_000  af_000  ag_000    ag_001  \\\n",
       "59484      1  895178 356014263.03 190620.64    6.82   11.01    0.00      0.00   \n",
       "59601      1  862134 356014263.03 190620.64    6.82   11.01    0.00  38834.00   \n",
       "59692      1  186856 356014263.03 190620.64    0.00    0.00    0.00      0.00   \n",
       "59742      1  605092 356014263.03 190620.64    6.82   11.01    0.00  44320.00   \n",
       "59769      1  331704      1484.00   1142.00    0.00    0.00    0.00 267100.00   \n",
       "\n",
       "          ag_002     ag_003  ...     ee_002     ee_003     ee_004     ee_005  \\\n",
       "59484       0.00       0.00  ... 9116224.00 4276644.00 8701496.00 8082264.00   \n",
       "59601 1227952.00 8877294.00  ... 3456564.00 1793170.00 4159190.00 5847384.00   \n",
       "59692    4300.00  910488.00  ... 2713108.00  800182.00  322322.00   71638.00   \n",
       "59742 1048970.00 7820828.00  ... 3940400.00 1865730.00 3698692.00 3271958.00   \n",
       "59769 1384372.00 6484382.00  ... 3738648.00 1425312.00 3381954.00 4346910.00   \n",
       "\n",
       "          ee_006      ee_007     ee_008   ee_009  ef_000  eg_000  \n",
       "59484 5827284.00  2057354.00 1662302.00 10790.00    0.09    0.21  \n",
       "59601 8364506.00 12875424.00  661442.00  2458.00    0.09    0.21  \n",
       "59692   34662.00     7304.00    2538.00     0.00    0.00    0.00  \n",
       "59742 9831898.00  3755392.00   65610.00     0.00    0.09    0.21  \n",
       "59769 2166330.00   296580.00   15434.00     0.00    0.00    0.00  \n",
       "\n",
       "[5 rows x 161 columns]"
      ]
     },
     "execution_count": 103,
     "metadata": {},
     "output_type": "execute_result"
    }
   ],
   "source": [
    "positive_df.tail()"
   ]
  },
  {
   "cell_type": "code",
   "execution_count": 104,
   "id": "22d65f87",
   "metadata": {},
   "outputs": [],
   "source": [
    "negative_df = df.groupby('class').get_group(0)"
   ]
  },
  {
   "cell_type": "code",
   "execution_count": 105,
   "id": "74331c51",
   "metadata": {},
   "outputs": [
    {
     "data": {
      "text/html": [
       "<div>\n",
       "<style scoped>\n",
       "    .dataframe tbody tr th:only-of-type {\n",
       "        vertical-align: middle;\n",
       "    }\n",
       "\n",
       "    .dataframe tbody tr th {\n",
       "        vertical-align: top;\n",
       "    }\n",
       "\n",
       "    .dataframe thead th {\n",
       "        text-align: right;\n",
       "    }\n",
       "</style>\n",
       "<table border=\"1\" class=\"dataframe\">\n",
       "  <thead>\n",
       "    <tr style=\"text-align: right;\">\n",
       "      <th></th>\n",
       "      <th>class</th>\n",
       "      <th>aa_000</th>\n",
       "      <th>ac_000</th>\n",
       "      <th>ad_000</th>\n",
       "      <th>ae_000</th>\n",
       "      <th>af_000</th>\n",
       "      <th>ag_000</th>\n",
       "      <th>ag_001</th>\n",
       "      <th>ag_002</th>\n",
       "      <th>ag_003</th>\n",
       "      <th>...</th>\n",
       "      <th>ee_002</th>\n",
       "      <th>ee_003</th>\n",
       "      <th>ee_004</th>\n",
       "      <th>ee_005</th>\n",
       "      <th>ee_006</th>\n",
       "      <th>ee_007</th>\n",
       "      <th>ee_008</th>\n",
       "      <th>ee_009</th>\n",
       "      <th>ef_000</th>\n",
       "      <th>eg_000</th>\n",
       "    </tr>\n",
       "  </thead>\n",
       "  <tbody>\n",
       "    <tr>\n",
       "      <th>59995</th>\n",
       "      <td>0</td>\n",
       "      <td>153002</td>\n",
       "      <td>664.00</td>\n",
       "      <td>186.00</td>\n",
       "      <td>0.00</td>\n",
       "      <td>0.00</td>\n",
       "      <td>0.00</td>\n",
       "      <td>0.00</td>\n",
       "      <td>0.00</td>\n",
       "      <td>2564.00</td>\n",
       "      <td>...</td>\n",
       "      <td>998500.00</td>\n",
       "      <td>566884.00</td>\n",
       "      <td>1290398.00</td>\n",
       "      <td>1218244.00</td>\n",
       "      <td>1019768.00</td>\n",
       "      <td>717762.00</td>\n",
       "      <td>898642.00</td>\n",
       "      <td>28588.00</td>\n",
       "      <td>0.00</td>\n",
       "      <td>0.00</td>\n",
       "    </tr>\n",
       "    <tr>\n",
       "      <th>59996</th>\n",
       "      <td>0</td>\n",
       "      <td>2286</td>\n",
       "      <td>2130706538.00</td>\n",
       "      <td>224.00</td>\n",
       "      <td>0.00</td>\n",
       "      <td>0.00</td>\n",
       "      <td>0.00</td>\n",
       "      <td>0.00</td>\n",
       "      <td>0.00</td>\n",
       "      <td>0.00</td>\n",
       "      <td>...</td>\n",
       "      <td>10578.00</td>\n",
       "      <td>6760.00</td>\n",
       "      <td>21126.00</td>\n",
       "      <td>68424.00</td>\n",
       "      <td>136.00</td>\n",
       "      <td>0.00</td>\n",
       "      <td>0.00</td>\n",
       "      <td>0.00</td>\n",
       "      <td>0.00</td>\n",
       "      <td>0.00</td>\n",
       "    </tr>\n",
       "    <tr>\n",
       "      <th>59997</th>\n",
       "      <td>0</td>\n",
       "      <td>112</td>\n",
       "      <td>2130706432.00</td>\n",
       "      <td>18.00</td>\n",
       "      <td>0.00</td>\n",
       "      <td>0.00</td>\n",
       "      <td>0.00</td>\n",
       "      <td>0.00</td>\n",
       "      <td>0.00</td>\n",
       "      <td>0.00</td>\n",
       "      <td>...</td>\n",
       "      <td>792.00</td>\n",
       "      <td>386.00</td>\n",
       "      <td>452.00</td>\n",
       "      <td>144.00</td>\n",
       "      <td>146.00</td>\n",
       "      <td>2622.00</td>\n",
       "      <td>0.00</td>\n",
       "      <td>0.00</td>\n",
       "      <td>0.00</td>\n",
       "      <td>0.00</td>\n",
       "    </tr>\n",
       "    <tr>\n",
       "      <th>59998</th>\n",
       "      <td>0</td>\n",
       "      <td>80292</td>\n",
       "      <td>2130706432.00</td>\n",
       "      <td>494.00</td>\n",
       "      <td>0.00</td>\n",
       "      <td>0.00</td>\n",
       "      <td>0.00</td>\n",
       "      <td>0.00</td>\n",
       "      <td>0.00</td>\n",
       "      <td>0.00</td>\n",
       "      <td>...</td>\n",
       "      <td>699352.00</td>\n",
       "      <td>222654.00</td>\n",
       "      <td>347378.00</td>\n",
       "      <td>225724.00</td>\n",
       "      <td>194440.00</td>\n",
       "      <td>165070.00</td>\n",
       "      <td>802280.00</td>\n",
       "      <td>388422.00</td>\n",
       "      <td>0.00</td>\n",
       "      <td>0.00</td>\n",
       "    </tr>\n",
       "    <tr>\n",
       "      <th>59999</th>\n",
       "      <td>0</td>\n",
       "      <td>40222</td>\n",
       "      <td>698.00</td>\n",
       "      <td>628.00</td>\n",
       "      <td>0.00</td>\n",
       "      <td>0.00</td>\n",
       "      <td>0.00</td>\n",
       "      <td>0.00</td>\n",
       "      <td>0.00</td>\n",
       "      <td>0.00</td>\n",
       "      <td>...</td>\n",
       "      <td>440066.00</td>\n",
       "      <td>183200.00</td>\n",
       "      <td>344546.00</td>\n",
       "      <td>254068.00</td>\n",
       "      <td>225148.00</td>\n",
       "      <td>158304.00</td>\n",
       "      <td>170384.00</td>\n",
       "      <td>158.00</td>\n",
       "      <td>0.00</td>\n",
       "      <td>0.00</td>\n",
       "    </tr>\n",
       "  </tbody>\n",
       "</table>\n",
       "<p>5 rows × 161 columns</p>\n",
       "</div>"
      ],
      "text/plain": [
       "       class  aa_000        ac_000  ad_000  ae_000  af_000  ag_000  ag_001  \\\n",
       "59995      0  153002        664.00  186.00    0.00    0.00    0.00    0.00   \n",
       "59996      0    2286 2130706538.00  224.00    0.00    0.00    0.00    0.00   \n",
       "59997      0     112 2130706432.00   18.00    0.00    0.00    0.00    0.00   \n",
       "59998      0   80292 2130706432.00  494.00    0.00    0.00    0.00    0.00   \n",
       "59999      0   40222        698.00  628.00    0.00    0.00    0.00    0.00   \n",
       "\n",
       "       ag_002  ag_003  ...    ee_002    ee_003     ee_004     ee_005  \\\n",
       "59995    0.00 2564.00  ... 998500.00 566884.00 1290398.00 1218244.00   \n",
       "59996    0.00    0.00  ...  10578.00   6760.00   21126.00   68424.00   \n",
       "59997    0.00    0.00  ...    792.00    386.00     452.00     144.00   \n",
       "59998    0.00    0.00  ... 699352.00 222654.00  347378.00  225724.00   \n",
       "59999    0.00    0.00  ... 440066.00 183200.00  344546.00  254068.00   \n",
       "\n",
       "          ee_006    ee_007    ee_008    ee_009  ef_000  eg_000  \n",
       "59995 1019768.00 717762.00 898642.00  28588.00    0.00    0.00  \n",
       "59996     136.00      0.00      0.00      0.00    0.00    0.00  \n",
       "59997     146.00   2622.00      0.00      0.00    0.00    0.00  \n",
       "59998  194440.00 165070.00 802280.00 388422.00    0.00    0.00  \n",
       "59999  225148.00 158304.00 170384.00    158.00    0.00    0.00  \n",
       "\n",
       "[5 rows x 161 columns]"
      ]
     },
     "execution_count": 105,
     "metadata": {},
     "output_type": "execute_result"
    }
   ],
   "source": [
    "negative_df.tail()"
   ]
  },
  {
   "cell_type": "markdown",
   "id": "6d5dc798",
   "metadata": {},
   "source": [
    "### Positive class - central tendencies\n",
    "I will base all my descriptive stats on column \"aa_000\" as dataset is anonymised."
   ]
  },
  {
   "cell_type": "code",
   "execution_count": 106,
   "id": "b0422a74",
   "metadata": {},
   "outputs": [
    {
     "data": {
      "text/plain": [
       "659173.664"
      ]
     },
     "execution_count": 106,
     "metadata": {},
     "output_type": "execute_result"
    }
   ],
   "source": [
    "pos_mean = positive_df['aa_000'].mean()\n",
    "pos_mean"
   ]
  },
  {
   "cell_type": "code",
   "execution_count": 107,
   "id": "e8f52cc0",
   "metadata": {},
   "outputs": [
    {
     "data": {
      "text/plain": [
       "584994.0"
      ]
     },
     "execution_count": 107,
     "metadata": {},
     "output_type": "execute_result"
    }
   ],
   "source": [
    "pos_median = positive_df['aa_000'].median()\n",
    "pos_median"
   ]
  },
  {
   "cell_type": "code",
   "execution_count": 108,
   "id": "bb4e7748",
   "metadata": {},
   "outputs": [
    {
     "data": {
      "text/plain": [
       "0    181460\n",
       "dtype: int64"
      ]
     },
     "execution_count": 108,
     "metadata": {},
     "output_type": "execute_result"
    }
   ],
   "source": [
    "pos_mode = positive_df['aa_000'].mode()\n",
    "pos_mode"
   ]
  },
  {
   "cell_type": "markdown",
   "id": "f4f93824",
   "metadata": {},
   "source": [
    "### Negative class - central tendencies"
   ]
  },
  {
   "cell_type": "code",
   "execution_count": 109,
   "id": "b3372737",
   "metadata": {},
   "outputs": [
    {
     "data": {
      "text/plain": [
       "49169.767966101695"
      ]
     },
     "execution_count": 109,
     "metadata": {},
     "output_type": "execute_result"
    }
   ],
   "source": [
    "neg_mean = negative_df['aa_000'].mean()\n",
    "neg_mean"
   ]
  },
  {
   "cell_type": "code",
   "execution_count": 110,
   "id": "aa0b7a5d",
   "metadata": {},
   "outputs": [
    {
     "data": {
      "text/plain": [
       "30416.0"
      ]
     },
     "execution_count": 110,
     "metadata": {},
     "output_type": "execute_result"
    }
   ],
   "source": [
    "neg_median = negative_df['aa_000'].median()\n",
    "neg_median"
   ]
  },
  {
   "cell_type": "code",
   "execution_count": 111,
   "id": "1a72133e",
   "metadata": {},
   "outputs": [
    {
     "data": {
      "text/plain": [
       "0    8\n",
       "dtype: int64"
      ]
     },
     "execution_count": 111,
     "metadata": {},
     "output_type": "execute_result"
    }
   ],
   "source": [
    "neg_mode = negative_df['aa_000'].mode()\n",
    "neg_mode"
   ]
  },
  {
   "cell_type": "markdown",
   "id": "22c75c7c",
   "metadata": {},
   "source": [
    "### Variance and standard deviation"
   ]
  },
  {
   "cell_type": "code",
   "execution_count": 112,
   "id": "5e1032f1",
   "metadata": {},
   "outputs": [
    {
     "data": {
      "text/plain": [
       "188689353871.02255"
      ]
     },
     "execution_count": 112,
     "metadata": {},
     "output_type": "execute_result"
    }
   ],
   "source": [
    "pos_variance = positive_df['aa_000'].var()\n",
    "pos_variance"
   ]
  },
  {
   "cell_type": "code",
   "execution_count": 113,
   "id": "9a0de753",
   "metadata": {},
   "outputs": [
    {
     "data": {
      "text/plain": [
       "434383.8784658364"
      ]
     },
     "execution_count": 113,
     "metadata": {},
     "output_type": "execute_result"
    }
   ],
   "source": [
    "pos_std_dev = positive_df['aa_000'].std()\n",
    "pos_std_dev"
   ]
  },
  {
   "cell_type": "code",
   "execution_count": 114,
   "id": "21d11961",
   "metadata": {},
   "outputs": [
    {
     "data": {
      "text/plain": [
       "12111548650.965311"
      ]
     },
     "execution_count": 114,
     "metadata": {},
     "output_type": "execute_result"
    }
   ],
   "source": [
    "neg_variance = negative_df['aa_000'].var()\n",
    "neg_variance"
   ]
  },
  {
   "cell_type": "code",
   "execution_count": 115,
   "id": "0e8b23d5",
   "metadata": {},
   "outputs": [
    {
     "data": {
      "text/plain": [
       "110052.48134851531"
      ]
     },
     "execution_count": 115,
     "metadata": {},
     "output_type": "execute_result"
    }
   ],
   "source": [
    "neg_std_dev = negative_df['aa_000'].std()\n",
    "neg_std_dev"
   ]
  },
  {
   "cell_type": "markdown",
   "id": "6d4ee5ed",
   "metadata": {},
   "source": [
    "### Interpretation of the results\n",
    "From the outcome of the variance and standard deviation, we can see that positive class dataset has way higher variance and standard deviation than negative class dataset, even though negative class dataset has a lot more inputs (59000 rows) than positive one (1000 rows). Since data is anonymised, I can't interpretate meaning of values but, from this difference in variance and standard deviation between negative and positive class, I can say that positive class dataset is more spread out, has greater variability and wider range of values.    "
   ]
  },
  {
   "cell_type": "markdown",
   "id": "e528c103",
   "metadata": {},
   "source": [
    "# "
   ]
  },
  {
   "cell_type": "markdown",
   "id": "ccd50eff",
   "metadata": {},
   "source": [
    "### Distribution of APS component failures in the positive class - visualisation\n",
    "Due to high number of columns in positive class dataset, I will use \"class\" and aa_000\" columns.\n",
    "Also, due to high number of values in \"aa_000\" column, I will use lowest 10 values while doing visualisation as visualisation would be unrepresentative other way."
   ]
  },
  {
   "cell_type": "code",
   "execution_count": 118,
   "id": "0aa3bbc9",
   "metadata": {},
   "outputs": [
    {
     "data": {
      "text/plain": [
       "[Text(0.5, 0, '10 lowest values from aa_000'),\n",
       " Text(0, 0.5, 'Frequency'),\n",
       " Text(0.5, 1.0, 'Histogram of 10 lowest values of aa_000 by class')]"
      ]
     },
     "execution_count": 118,
     "metadata": {},
     "output_type": "execute_result"
    },
    {
     "data": {
      "image/png": "[encoded data removed]",
      "text/plain": [
       "<Figure size 432x288 with 1 Axes>"
      ]
     },
     "metadata": {},
     "output_type": "display_data"
    }
   ],
   "source": [
    "lowest_values = positive_df.nsmallest(10, 'aa_000')\n",
    "ax = sns.histplot(lowest_values, x='aa_000', hue='class', kde=True)\n",
    "ax.set(xlabel='10 lowest values from aa_000', ylabel='Frequency', title='Histogram of 10 lowest values of aa_000 by class')"
   ]
  },
  {
   "cell_type": "code",
   "execution_count": 120,
   "id": "83442e19",
   "metadata": {},
   "outputs": [
    {
     "data": {
      "text/plain": [
       "Text(0.5, 1.0, 'Box plot of top 10 lowest values of aa_000')"
      ]
     },
     "execution_count": 120,
     "metadata": {},
     "output_type": "execute_result"
    },
    {
     "data": {
      "image/png": "[encoded data removed]",
      "text/plain": [
       "<Figure size 432x288 with 1 Axes>"
      ]
     },
     "metadata": {},
     "output_type": "display_data"
    }
   ],
   "source": [
    "lowest_values = positive_df.nsmallest(10, 'aa_000')\n",
    "sns.boxplot(x='aa_000', y='class', data=lowest_values, hue='aa_000')\n",
    "plt.title('Box plot of top 10 lowest values of aa_000', fontsize=20)"
   ]
  },
  {
   "cell_type": "markdown",
   "id": "8c898541",
   "metadata": {},
   "source": [
    "## Binomial and Poisson Distribution"
   ]
  },
  {
   "cell_type": "markdown",
   "id": "8a3f8fd2",
   "metadata": {},
   "source": [
    "### Task 1 - Binomial Distribution\n",
    "Suppose that the company performs 50 truck inspections per week. What is the \n",
    "probability of observing at least 10 APS component failures in a given period? \n",
    " "
   ]
  },
  {
   "cell_type": "markdown",
   "id": "d937112e",
   "metadata": {},
   "source": [
    "# "
   ]
  },
  {
   "cell_type": "markdown",
   "id": "fcd5152a",
   "metadata": {},
   "source": [
    "In order to get probability of at least 10 APS component failures within the week, I need to get probability (p) of getting failure first. I can get that by dividing number of positive instances with total number of positive and negative instances."
   ]
  },
  {
   "cell_type": "code",
   "execution_count": 127,
   "id": "2f020e54",
   "metadata": {},
   "outputs": [
    {
     "name": "stdout",
     "output_type": "stream",
     "text": [
      "0.016666666666666666\n"
     ]
    }
   ],
   "source": [
    "fail_prob = len(positive_df) / (len(positive_df) + len(negative_df))\n",
    "print (fail_prob)"
   ]
  },
  {
   "cell_type": "markdown",
   "id": "cee4778c",
   "metadata": {},
   "source": [
    "Now, after I got failure probability, I need to get failure probability on week basis. To get that, I should just multiply failure probability by 7 (number of days in week)."
   ]
  },
  {
   "cell_type": "code",
   "execution_count": 129,
   "id": "129d44ff",
   "metadata": {},
   "outputs": [
    {
     "name": "stdout",
     "output_type": "stream",
     "text": [
      "0.11666666666666667\n"
     ]
    }
   ],
   "source": [
    "week_fail_prob = fail_prob * 7\n",
    "print(week_fail_prob)"
   ]
  },
  {
   "cell_type": "markdown",
   "id": "4b46e6c5",
   "metadata": {},
   "source": [
    "Now, when I have all the parts of formula, I can calculate probability of observing at least 10 APS component failures in a week by using Binomial Distribution. My n=50, I got p above and I need survival function (SF) as I need value that is greater than some other value (in this case, greater than 9)."
   ]
  },
  {
   "cell_type": "code",
   "execution_count": 130,
   "id": "043fb059",
   "metadata": {},
   "outputs": [
    {
     "data": {
      "text/plain": [
       "0.06065195231769028"
      ]
     },
     "execution_count": 130,
     "metadata": {},
     "output_type": "execute_result"
    }
   ],
   "source": [
    "binom.sf(k = 9, n=50, p = week_fail_prob)"
   ]
  },
  {
   "cell_type": "markdown",
   "id": "2b346ca1",
   "metadata": {},
   "source": [
    "### Probability of at least 10 APS component failures within the week out of 50 truck inspections is 6.06%"
   ]
  },
  {
   "cell_type": "markdown",
   "id": "5697f592",
   "metadata": {},
   "source": [
    "# "
   ]
  },
  {
   "cell_type": "markdown",
   "id": "46f919ec",
   "metadata": {},
   "source": [
    "### Task 2 - Poisson Distribution\n",
    "Using the average of APS component failures in one of the variables, calculate \n",
    "the probability of observing 8 or more APS component failures in a given \n",
    "period? "
   ]
  },
  {
   "cell_type": "markdown",
   "id": "7fa31a35",
   "metadata": {},
   "source": [
    "Since we have enough information from the task above, we will use that information to get mu, which we need for Poisson distribution.\n",
    "We can use the binomial distribution formula to calculate the average number of APS component failures per week.\n",
    "The binomial distribution formula is:\n",
    "μ = n * p  where μ is the mean or expected value of the distribution, n is the number of trials, and p is the probability of success in each trial.\n",
    "In this case, we have n = 50 and p = 0.11666666666666667."
   ]
  },
  {
   "cell_type": "code",
   "execution_count": 132,
   "id": "fd493a3d",
   "metadata": {},
   "outputs": [
    {
     "name": "stdout",
     "output_type": "stream",
     "text": [
      "5.833333333333333\n"
     ]
    }
   ],
   "source": [
    "n = 50\n",
    "p = 0.11666666666666667\n",
    "avg_no_fail = n * p\n",
    "print(avg_no_fail)"
   ]
  },
  {
   "cell_type": "code",
   "execution_count": 133,
   "id": "ee0e3b64",
   "metadata": {},
   "outputs": [
    {
     "data": {
      "text/plain": [
       "0.23296536612363222"
      ]
     },
     "execution_count": 133,
     "metadata": {},
     "output_type": "execute_result"
    }
   ],
   "source": [
    "poisson.sf(k = 7, mu = 5.83)"
   ]
  },
  {
   "cell_type": "markdown",
   "id": "643c6f94",
   "metadata": {},
   "source": [
    "### Probability of 8 or more APS component failures within the week out of 50 truck inspections is 23.29%"
   ]
  },
  {
   "cell_type": "markdown",
   "id": "432f9030",
   "metadata": {},
   "source": [
    "# "
   ]
  },
  {
   "cell_type": "markdown",
   "id": "6043478c",
   "metadata": {},
   "source": [
    "## Normal Distribution"
   ]
  },
  {
   "cell_type": "markdown",
   "id": "68cf6222",
   "metadata": {},
   "source": [
    "### Task: Use normal distribution to identify two insightful probabilities to this analysis.\n",
    "\n",
    "My first task will be to check what is the probability of getting less than 5 failures within the week.\n",
    "\n",
    "My second task will be to find probability of getting 10 or more failures within the week if we start inspecting 80 trucks in a week."
   ]
  },
  {
   "cell_type": "markdown",
   "id": "af931767",
   "metadata": {},
   "source": [
    "### Task 1\n",
    "First, I will use already known information (average number of APS component failures per week) so I can get standard deviation of it."
   ]
  },
  {
   "cell_type": "code",
   "execution_count": 138,
   "id": "3d501513",
   "metadata": {},
   "outputs": [
    {
     "name": "stdout",
     "output_type": "stream",
     "text": [
      "Standard deviation of APS component failures per week: 2.2699730786460393\n"
     ]
    }
   ],
   "source": [
    "variance = n * p * (1 - p)\n",
    "\n",
    "std_dev = math.sqrt(variance)\n",
    "\n",
    "print(\"Standard deviation of APS component failures per week:\", std_dev)"
   ]
  },
  {
   "cell_type": "markdown",
   "id": "17a9979c",
   "metadata": {},
   "source": [
    "Then, I will standardize the data:"
   ]
  },
  {
   "cell_type": "code",
   "execution_count": 140,
   "id": "06873ccf",
   "metadata": {},
   "outputs": [
    {
     "name": "stdout",
     "output_type": "stream",
     "text": [
      "-0.3074074074074074\n"
     ]
    }
   ],
   "source": [
    "μ = 5.83\n",
    "σ = 2.70\n",
    "X = 5\n",
    "\n",
    "#Formula for standardization: \n",
    "Z = (X-μ)/σ\n",
    "\n",
    "print(Z)"
   ]
  },
  {
   "cell_type": "markdown",
   "id": "019b9bb6",
   "metadata": {},
   "source": [
    "### After using \"Probability Distributions\" calculator, I got probability of 37.94% of getting less than 5 failures within the week."
   ]
  },
  {
   "cell_type": "markdown",
   "id": "a4f1a765",
   "metadata": {},
   "source": [
    "# "
   ]
  },
  {
   "cell_type": "markdown",
   "id": "59211d6b",
   "metadata": {},
   "source": [
    "### Task 2\n",
    "I will use again previously used Binomial Distributions. \n",
    "\n",
    "After that, will get average of failures within the week.\n",
    "\n",
    "Third, I will calculate new standard deviation.\n",
    "\n",
    "And then, as a last thing, I will standardize the data and get the probability of getting 10 or more failures within the week if we start inspecting 80 trucks in a week."
   ]
  },
  {
   "cell_type": "code",
   "execution_count": 143,
   "id": "a599f2c5",
   "metadata": {},
   "outputs": [
    {
     "data": {
      "text/plain": [
       "0.32880954786455224"
      ]
     },
     "execution_count": 143,
     "metadata": {},
     "output_type": "execute_result"
    }
   ],
   "source": [
    "binom.sf(k = 10, n=80, p = week_fail_prob)"
   ]
  },
  {
   "cell_type": "code",
   "execution_count": 144,
   "id": "2c2ac10a",
   "metadata": {},
   "outputs": [
    {
     "name": "stdout",
     "output_type": "stream",
     "text": [
      "9.333333333333334\n"
     ]
    }
   ],
   "source": [
    "n = 80\n",
    "p = 0.11666666666666667\n",
    "avg_no_fail = n * p\n",
    "print(avg_no_fail)"
   ]
  },
  {
   "cell_type": "code",
   "execution_count": 146,
   "id": "ca6c8de2",
   "metadata": {},
   "outputs": [
    {
     "name": "stdout",
     "output_type": "stream",
     "text": [
      "Standard deviation of APS component failures per week: 2.8713140623144042\n"
     ]
    }
   ],
   "source": [
    "variance = n * p * (1 - p)\n",
    "\n",
    "std_dev = math.sqrt(variance)\n",
    "\n",
    "print(\"Standard deviation of APS component failures per week:\", std_dev)"
   ]
  },
  {
   "cell_type": "code",
   "execution_count": 147,
   "id": "d9a4d1f3",
   "metadata": {},
   "outputs": [
    {
     "name": "stdout",
     "output_type": "stream",
     "text": [
      "0.23344947735191635\n"
     ]
    }
   ],
   "source": [
    "μ = 9.33\n",
    "σ = 2.87\n",
    "X = 10\n",
    "\n",
    "#Formula for standardization: \n",
    "Z = (X-μ)/σ\n",
    "\n",
    "print(Z)"
   ]
  },
  {
   "cell_type": "markdown",
   "id": "d3853a9f",
   "metadata": {},
   "source": [
    "### After using \"Probability Distributions\" calculator, I got probability of 40.77%% of getting more than 10 failures within the week if we start inspecting 80 trucks"
   ]
  }
 ],
 "metadata": {
  "kernelspec": {
   "display_name": "Python 3 (ipykernel)",
   "language": "python",
   "name": "python3"
  },
  "language_info": {
   "codemirror_mode": {
    "name": "ipython",
    "version": 3
   },
   "file_extension": ".py",
   "mimetype": "text/x-python",
   "name": "python",
   "nbconvert_exporter": "python",
   "pygments_lexer": "ipython3",
   "version": "3.9.7"
  }
 },
 "nbformat": 4,
 "nbformat_minor": 5
}
